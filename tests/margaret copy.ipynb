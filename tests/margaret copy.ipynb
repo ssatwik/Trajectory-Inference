{
 "cells": [
  {
   "cell_type": "code",
   "execution_count": 1,
   "metadata": {},
   "outputs": [
    {
     "data": {
      "text/plain": [
       "<torch._C.Generator at 0x7525e0323f90>"
      ]
     },
     "execution_count": 1,
     "metadata": {},
     "output_type": "execute_result"
    }
   ],
   "source": [
    "import scanpy as sc\n",
    "import torch\n",
    "import numpy as np\n",
    "\n",
    "random_seed = 0\n",
    "np.random.seed(random_seed)\n",
    "torch.manual_seed(random_seed)"
   ]
  },
  {
   "cell_type": "code",
   "execution_count": 2,
   "metadata": {},
   "outputs": [],
   "source": [
    "import pandas as pd\n",
    "import os\n",
    "import matplotlib as mp\n",
    "import matplotlib.pyplot as plt\n",
    "import numpy as np\n",
    "%matplotlib inline"
   ]
  },
  {
   "cell_type": "code",
   "execution_count": 3,
   "metadata": {},
   "outputs": [
    {
     "name": "stderr",
     "output_type": "stream",
     "text": [
      "/tmp/ipykernel_132642/2174054843.py:8: DeprecationWarning: The global conversion available with activate() is deprecated and will be removed in the next major release. Use a local converter.\n",
      "  anndata2ri.activate()\n"
     ]
    }
   ],
   "source": [
    "import anndata2ri\n",
    "import logging\n",
    "import rpy2.rinterface_lib.callbacks as rcb\n",
    "import rpy2.robjects as ro\n",
    "\n",
    "rcb.logger.setLevel(logging.ERROR)\n",
    "ro.pandas2ri.activate()\n",
    "anndata2ri.activate()\n",
    "\n",
    "%load_ext rpy2.ipython"
   ]
  },
  {
   "cell_type": "code",
   "execution_count": 4,
   "metadata": {},
   "outputs": [],
   "source": [
    "from utils.util import run_pca\n",
    "import magic\n",
    "import warnings\n",
    "from train_metric import train_metric_learner\n",
    "import networkx as nx\n",
    "import sklearn"
   ]
  },
  {
   "cell_type": "code",
   "execution_count": 7,
   "metadata": {},
   "outputs": [],
   "source": [
    "import os\n",
    "try:\n",
    "\t\tif os.path.exists(\"multifurcating_1.rds\"):\n",
    "\t\t\t%R dataset <- readRDS(\"multifurcating_1.rds\")\n",
    "\t\telse:\n",
    "\t\t\tprint(\"File 'multifurcating_1.rds' not found.\")\n",
    "except:\n",
    "\t\tif os.path.exists(\"multifurcating_1.rds\"):\n",
    "\t\t\t%R dataset <- readRDS(\"multifurcating_1.rds\")\n",
    "\t\telse:\n",
    "\t\t\tprint(\"File 'multifurcating_1.rds' not found.\")"
   ]
  },
  {
   "cell_type": "code",
   "execution_count": 8,
   "metadata": {},
   "outputs": [
    {
     "name": "stdout",
     "output_type": "stream",
     "text": [
      "List of 17\n",
      " $ id                   : chr \"synthetic/splatter/multifurcating_1\"\n",
      " $ cell_ids             : chr [1:920] \"Cell1\" \"Cell2\" \"Cell3\" \"Cell4\" ...\n",
      " $ cell_info            : NULL\n",
      " $ counts               : num [1:920, 1:1254] 48 0 0 18 31 38 11 31 19 17 ...\n",
      "  ..- attr(*, \"dimnames\")=List of 2\n",
      "  .. ..$ : chr [1:920] \"Cell1\" \"Cell2\" \"Cell3\" \"Cell4\" ...\n",
      "  .. ..$ : chr [1:1254] \"Gene4247\" \"Gene4771\" \"Gene2697\" \"Gene3227\" ...\n",
      " $ expression           : num [1:920, 1:1254] 5.25 0 0 4.26 4.36 ...\n",
      "  ..- attr(*, \"dimnames\")=List of 2\n",
      "  .. ..$ : chr [1:920] \"Cell1\" \"Cell2\" \"Cell3\" \"Cell4\" ...\n",
      "  .. ..$ : chr [1:1254] \"Gene4247\" \"Gene4771\" \"Gene2697\" \"Gene3227\" ...\n",
      " $ feature_info         :Classes ‘tbl_df’, ‘tbl’ and 'data.frame':\t1254 obs. of  1 variable:\n",
      "  ..$ feature_id: chr [1:1254] \"Gene4247\" \"Gene4771\" \"Gene2697\" \"Gene3227\" ...\n",
      " $ milestone_ids        : chr [1:9] \"M1\" \"M3\" \"M6\" \"M8\" ...\n",
      " $ milestone_network    :Classes ‘tbl_df’, ‘tbl’ and 'data.frame':\t8 obs. of  4 variables:\n",
      "  ..$ from    : chr [1:8] \"M1\" \"M3\" \"M6\" \"M3\" ...\n",
      "  ..$ to      : chr [1:8] \"M3\" \"M2\" \"M7\" \"M6\" ...\n",
      "  ..$ length  : num [1:8] 0.349 0.407 0.883 0.216 0.445 ...\n",
      "  ..$ directed: logi [1:8] TRUE TRUE TRUE TRUE TRUE TRUE ...\n",
      " $ divergence_regions   :Classes ‘tbl_df’, ‘tbl’ and 'data.frame':\t0 obs. of  3 variables:\n",
      "  ..$ divergence_id: chr(0) \n",
      "  ..$ milestone_id : chr(0) \n",
      "  ..$ is_start     : logi(0) \n",
      " $ milestone_percentages:Classes ‘tbl_df’, ‘tbl’ and 'data.frame':\t1840 obs. of  3 variables:\n",
      "  ..$ cell_id     : chr [1:1840] \"Cell1\" \"Cell10\" \"Cell100\" \"Cell101\" ...\n",
      "  ..$ milestone_id: chr [1:1840] \"M8\" \"M3\" \"M8\" \"M6\" ...\n",
      "  ..$ percentage  : num [1:1840] 0.4247 0.0909 0.5738 0.1685 0.0909 ...\n",
      " $ progressions         :Classes ‘tbl_df’, ‘tbl’ and 'data.frame':\t920 obs. of  4 variables:\n",
      "  ..$ cell_id   : chr [1:920] \"Cell1\" \"Cell2\" \"Cell3\" \"Cell4\" ...\n",
      "  ..$ from      : chr [1:920] \"M8\" \"M6\" \"M6\" \"M3\" ...\n",
      "  ..$ to        : chr [1:920] \"M9\" \"M7\" \"M7\" \"M6\" ...\n",
      "  ..$ percentage: num [1:920] 0.575 0.281 0.236 0.273 0.41 ...\n",
      " $ trajectory_type      : chr \"tree\"\n",
      " $ prior_information    :List of 12\n",
      "  ..$ start_milestones     : chr \"M1\"\n",
      "  ..$ start_id             : chr \"Cell726\"\n",
      "  ..$ end_milestones       : chr [1:5] \"M2\" \"M7\" \"M5\" \"M9\" ...\n",
      "  ..$ end_id               : chr [1:5] \"Cell117\" \"Cell687\" \"Cell739\" \"Cell302\" ...\n",
      "  ..$ groups_id            :Classes ‘tbl_df’, ‘tbl’ and 'data.frame':\t920 obs. of  2 variables:\n",
      "  .. ..$ cell_id : chr [1:920] \"Cell1\" \"Cell10\" \"Cell100\" \"Cell101\" ...\n",
      "  .. ..$ group_id: chr [1:920] \"M9\" \"M6\" \"M8\" \"M7\" ...\n",
      "  ..$ groups_network       :Classes ‘tbl_df’, ‘tbl’ and 'data.frame':\t8 obs. of  2 variables:\n",
      "  .. ..$ from: chr [1:8] \"M1\" \"M3\" \"M6\" \"M3\" ...\n",
      "  .. ..$ to  : chr [1:8] \"M3\" \"M2\" \"M7\" \"M6\" ...\n",
      "  ..$ features_id          : chr [1:877] \"Gene6812\" \"Gene4424\" \"Gene3456\" \"Gene1877\" ...\n",
      "  ..$ groups_n             : int 8\n",
      "  ..$ timecourse_continuous: Named num [1:920] 1.026 0.546 0.866 1.3 0.546 ...\n",
      "  .. ..- attr(*, \"names\")= chr [1:920] \"Cell1\" \"Cell10\" \"Cell100\" \"Cell101\" ...\n",
      "  ..$ timecourse_discrete  : int [1:920] 8 4 7 10 4 7 6 5 5 7 ...\n",
      "  ..$ start_n              : int 1\n",
      "  ..$ end_n                : int 5\n",
      " $ simulation_design    :List of 10\n",
      "  ..$ simulator         : chr \"splatter\"\n",
      "  ..$ simulator_version :'data.frame':\t4 obs. of  5 variables:\n",
      "  .. ..$ package: chr [1:4] \"dynbenchmark\" \"dynnormaliser\" \"dyntoy\" \"splatter\"\n",
      "  .. ..$ *      : chr [1:4] \"\" \"\" \"\" \"\"\n",
      "  .. ..$ version: chr [1:4] \"0.0.0.9000\" \"0.1.0\" \"0.1.0\" \"1.4.1\"\n",
      "  .. ..$ date   : chr [1:4] \"2018-07-31\" \"2018-07-30\" \"2018-07-30\" \"2018-07-31\"\n",
      "  .. ..$ source : chr [1:4] \"Github (dynverse/dynbenchmark@3f04cba)\" \"Github (dynverse/dynnormaliser@a3cd920)\" \"Github (dynverse/dyntoy@2722977)\" \"Bioconductor\"\n",
      "  ..$ topology_model    : chr \"multifurcating\"\n",
      "  ..$ platform          :List of 5\n",
      "  .. ..$ estimate                     :Formal class 'TheMuscularDogBlinkedQuietly.' [package \"\"] with 0 slots\n",
      " Named list()\n",
      "  .. .. .. ..$ nBatches          : int 1\n",
      "  .. .. .. ..$ batchCells        : int 500\n",
      "  .. .. .. ..$ batch.facLoc      : num 0.1\n",
      "  .. .. .. ..$ batch.facScale    : num 0.1\n",
      "  .. .. .. ..$ mean.rate         : num 0.0178\n",
      "  .. .. .. ..$ mean.shape        : num 1.11\n",
      "  .. .. .. ..$ lib.loc           : num 14\n",
      "  .. .. .. ..$ lib.scale         : num 0.189\n",
      "  .. .. .. ..$ lib.norm          : logi FALSE\n",
      "  .. .. .. ..$ out.prob          : num 0.0474\n",
      "  .. .. .. ..$ out.facLoc        : num 3.25\n",
      "  .. .. .. ..$ out.facScale      : num 0.852\n",
      "  .. .. .. ..$ nGroups           : num 1\n",
      "  .. .. .. ..$ group.prob        : num 1\n",
      "  .. .. .. ..$ de.prob           : num 0.1\n",
      "  .. .. .. ..$ de.downProb       : num 0.5\n",
      "  .. .. .. ..$ de.facLoc         : num 0.1\n",
      "  .. .. .. ..$ de.facScale       : num 0.4\n",
      "  .. .. .. ..$ bcv.common        : num 2.66\n",
      "  .. .. .. ..$ bcv.df            : num 8.49\n",
      "  .. .. .. ..$ dropout.type      : chr \"none\"\n",
      "  .. .. .. ..$ dropout.mid       : num 4.32\n",
      "  .. .. .. ..$ dropout.shape     : num -0.716\n",
      "  .. .. .. ..$ path.from         : num 0\n",
      "  .. .. .. ..$ path.length       : num 100\n",
      "  .. .. .. ..$ path.skew         : num 0.5\n",
      "  .. .. .. ..$ path.nonlinearProb: num 0.1\n",
      "  .. .. .. ..$ path.sigmaFac     : num 0.8\n",
      "  .. .. .. ..$ nGenes            : int 8357\n",
      "  .. .. .. ..$ nCells            : int 500\n",
      "  .. .. .. ..$ seed              : int 495722\n",
      "  .. ..$ trajectory_dependent_features: num 0.135\n",
      "  .. ..$ n_cells                      : int 930\n",
      "  .. ..$ n_features                   : int 8357\n",
      "  .. ..$ platform_id                  : chr \"real/aging-hsc-old_kowalczyk\"\n",
      "  ..$ path.skew         : num 0.821\n",
      "  ..$ path.nonlinearProb: num 0.24\n",
      "  ..$ path.sigmaFac     : num 0.683\n",
      "  ..$ bcv.common.factor : num 145\n",
      "  ..$ dataset_id        : chr \"synthetic/splatter/multifurcating_1\"\n",
      "  ..$ seed              : int 30636\n",
      " $ source               : chr \"synthetic/splatter\"\n",
      " $ waypoint_cells       : chr [1:106] \"Cell726\" \"Cell691\" \"Cell15\" \"Cell54\" ...\n",
      " $ directed             : logi TRUE\n",
      " - attr(*, \"class\")= chr [1:7] \"dynwrap::with_prior\" \"dynwrap::with_cell_waypoints\" \"dynwrap::with_prior\" \"dynwrap::with_trajectory\" ...\n"
     ]
    }
   ],
   "source": [
    "%%R\n",
    "str(dataset)"
   ]
  },
  {
   "cell_type": "code",
   "execution_count": 9,
   "metadata": {},
   "outputs": [],
   "source": [
    "expression_df = 1"
   ]
  },
  {
   "cell_type": "code",
   "execution_count": 10,
   "metadata": {},
   "outputs": [],
   "source": [
    "%%R -o expression_df\n",
    "expression_df <- as.data.frame(dataset$expression)"
   ]
  },
  {
   "cell_type": "code",
   "execution_count": 11,
   "metadata": {},
   "outputs": [
    {
     "data": {
      "text/html": [
       "<div>\n",
       "<style scoped>\n",
       "    .dataframe tbody tr th:only-of-type {\n",
       "        vertical-align: middle;\n",
       "    }\n",
       "\n",
       "    .dataframe tbody tr th {\n",
       "        vertical-align: top;\n",
       "    }\n",
       "\n",
       "    .dataframe thead th {\n",
       "        text-align: right;\n",
       "    }\n",
       "</style>\n",
       "<table border=\"1\" class=\"dataframe\">\n",
       "  <thead>\n",
       "    <tr style=\"text-align: right;\">\n",
       "      <th></th>\n",
       "      <th>Gene4247</th>\n",
       "      <th>Gene4771</th>\n",
       "      <th>Gene2697</th>\n",
       "      <th>Gene3227</th>\n",
       "      <th>Gene2112</th>\n",
       "      <th>Gene4564</th>\n",
       "      <th>Gene2255</th>\n",
       "      <th>Gene7953</th>\n",
       "      <th>Gene7815</th>\n",
       "      <th>Gene27</th>\n",
       "      <th>...</th>\n",
       "      <th>Gene7211</th>\n",
       "      <th>Gene3286</th>\n",
       "      <th>Gene3655</th>\n",
       "      <th>Gene424</th>\n",
       "      <th>Gene4610</th>\n",
       "      <th>Gene6059</th>\n",
       "      <th>Gene7393</th>\n",
       "      <th>Gene671</th>\n",
       "      <th>Gene3201</th>\n",
       "      <th>Gene7355</th>\n",
       "    </tr>\n",
       "  </thead>\n",
       "  <tbody>\n",
       "    <tr>\n",
       "      <th>Cell1</th>\n",
       "      <td>5.249972</td>\n",
       "      <td>4.449087</td>\n",
       "      <td>3.738908</td>\n",
       "      <td>0.825343</td>\n",
       "      <td>6.652233</td>\n",
       "      <td>2.678904</td>\n",
       "      <td>2.493580</td>\n",
       "      <td>4.594470</td>\n",
       "      <td>4.229203</td>\n",
       "      <td>2.843109</td>\n",
       "      <td>...</td>\n",
       "      <td>3.820001</td>\n",
       "      <td>7.917971</td>\n",
       "      <td>10.029918</td>\n",
       "      <td>7.258098</td>\n",
       "      <td>6.942152</td>\n",
       "      <td>5.802423</td>\n",
       "      <td>6.641118</td>\n",
       "      <td>2.678904</td>\n",
       "      <td>7.228699</td>\n",
       "      <td>5.389349</td>\n",
       "    </tr>\n",
       "    <tr>\n",
       "      <th>Cell2</th>\n",
       "      <td>0.000000</td>\n",
       "      <td>4.900236</td>\n",
       "      <td>3.483696</td>\n",
       "      <td>3.369842</td>\n",
       "      <td>5.956972</td>\n",
       "      <td>3.246227</td>\n",
       "      <td>0.886652</td>\n",
       "      <td>2.390779</td>\n",
       "      <td>3.369842</td>\n",
       "      <td>2.607220</td>\n",
       "      <td>...</td>\n",
       "      <td>3.589218</td>\n",
       "      <td>7.166032</td>\n",
       "      <td>9.697587</td>\n",
       "      <td>7.451381</td>\n",
       "      <td>6.719900</td>\n",
       "      <td>6.424386</td>\n",
       "      <td>6.014937</td>\n",
       "      <td>3.246227</td>\n",
       "      <td>6.242250</td>\n",
       "      <td>6.052325</td>\n",
       "    </tr>\n",
       "    <tr>\n",
       "      <th>Cell3</th>\n",
       "      <td>0.000000</td>\n",
       "      <td>5.048295</td>\n",
       "      <td>4.261829</td>\n",
       "      <td>1.049384</td>\n",
       "      <td>6.768637</td>\n",
       "      <td>5.048295</td>\n",
       "      <td>0.000000</td>\n",
       "      <td>1.049384</td>\n",
       "      <td>5.739109</td>\n",
       "      <td>4.261829</td>\n",
       "      <td>...</td>\n",
       "      <td>3.256582</td>\n",
       "      <td>7.488891</td>\n",
       "      <td>9.780013</td>\n",
       "      <td>7.666494</td>\n",
       "      <td>7.140815</td>\n",
       "      <td>5.709924</td>\n",
       "      <td>6.453538</td>\n",
       "      <td>4.091250</td>\n",
       "      <td>6.768637</td>\n",
       "      <td>4.901129</td>\n",
       "    </tr>\n",
       "    <tr>\n",
       "      <th>Cell4</th>\n",
       "      <td>4.256267</td>\n",
       "      <td>0.000000</td>\n",
       "      <td>2.328973</td>\n",
       "      <td>5.052929</td>\n",
       "      <td>6.434964</td>\n",
       "      <td>4.962714</td>\n",
       "      <td>0.000000</td>\n",
       "      <td>4.178239</td>\n",
       "      <td>4.531981</td>\n",
       "      <td>1.004407</td>\n",
       "      <td>...</td>\n",
       "      <td>4.400701</td>\n",
       "      <td>7.339663</td>\n",
       "      <td>9.964442</td>\n",
       "      <td>8.247177</td>\n",
       "      <td>6.681140</td>\n",
       "      <td>5.293978</td>\n",
       "      <td>6.516499</td>\n",
       "      <td>3.007704</td>\n",
       "      <td>7.008732</td>\n",
       "      <td>3.915107</td>\n",
       "    </tr>\n",
       "    <tr>\n",
       "      <th>Cell5</th>\n",
       "      <td>4.358955</td>\n",
       "      <td>2.986671</td>\n",
       "      <td>3.469210</td>\n",
       "      <td>4.486004</td>\n",
       "      <td>3.199402</td>\n",
       "      <td>3.830173</td>\n",
       "      <td>3.295055</td>\n",
       "      <td>4.065390</td>\n",
       "      <td>3.199402</td>\n",
       "      <td>3.696421</td>\n",
       "      <td>...</td>\n",
       "      <td>4.486004</td>\n",
       "      <td>7.727521</td>\n",
       "      <td>10.134864</td>\n",
       "      <td>7.544997</td>\n",
       "      <td>6.518429</td>\n",
       "      <td>5.323366</td>\n",
       "      <td>5.277261</td>\n",
       "      <td>3.696421</td>\n",
       "      <td>6.498473</td>\n",
       "      <td>5.103195</td>\n",
       "    </tr>\n",
       "    <tr>\n",
       "      <th>...</th>\n",
       "      <td>...</td>\n",
       "      <td>...</td>\n",
       "      <td>...</td>\n",
       "      <td>...</td>\n",
       "      <td>...</td>\n",
       "      <td>...</td>\n",
       "      <td>...</td>\n",
       "      <td>...</td>\n",
       "      <td>...</td>\n",
       "      <td>...</td>\n",
       "      <td>...</td>\n",
       "      <td>...</td>\n",
       "      <td>...</td>\n",
       "      <td>...</td>\n",
       "      <td>...</td>\n",
       "      <td>...</td>\n",
       "      <td>...</td>\n",
       "      <td>...</td>\n",
       "      <td>...</td>\n",
       "      <td>...</td>\n",
       "      <td>...</td>\n",
       "    </tr>\n",
       "    <tr>\n",
       "      <th>Cell926</th>\n",
       "      <td>3.469309</td>\n",
       "      <td>3.469309</td>\n",
       "      <td>4.219730</td>\n",
       "      <td>1.175969</td>\n",
       "      <td>6.372674</td>\n",
       "      <td>5.368150</td>\n",
       "      <td>3.295154</td>\n",
       "      <td>3.097051</td>\n",
       "      <td>3.295154</td>\n",
       "      <td>3.892771</td>\n",
       "      <td>...</td>\n",
       "      <td>3.892771</td>\n",
       "      <td>7.261089</td>\n",
       "      <td>9.640660</td>\n",
       "      <td>7.588234</td>\n",
       "      <td>7.002299</td>\n",
       "      <td>5.323472</td>\n",
       "      <td>5.752126</td>\n",
       "      <td>3.097051</td>\n",
       "      <td>6.160456</td>\n",
       "      <td>5.076628</td>\n",
       "    </tr>\n",
       "    <tr>\n",
       "      <th>Cell927</th>\n",
       "      <td>5.078278</td>\n",
       "      <td>1.065440</td>\n",
       "      <td>0.000000</td>\n",
       "      <td>4.026739</td>\n",
       "      <td>6.681324</td>\n",
       "      <td>0.000000</td>\n",
       "      <td>1.065440</td>\n",
       "      <td>4.443829</td>\n",
       "      <td>1.065440</td>\n",
       "      <td>2.425253</td>\n",
       "      <td>...</td>\n",
       "      <td>4.026739</td>\n",
       "      <td>7.458195</td>\n",
       "      <td>9.894428</td>\n",
       "      <td>7.449202</td>\n",
       "      <td>6.586078</td>\n",
       "      <td>5.710447</td>\n",
       "      <td>6.393234</td>\n",
       "      <td>4.646265</td>\n",
       "      <td>6.448435</td>\n",
       "      <td>4.026739</td>\n",
       "    </tr>\n",
       "    <tr>\n",
       "      <th>Cell928</th>\n",
       "      <td>4.027335</td>\n",
       "      <td>3.011554</td>\n",
       "      <td>4.870725</td>\n",
       "      <td>3.802324</td>\n",
       "      <td>6.961458</td>\n",
       "      <td>5.273382</td>\n",
       "      <td>1.122598</td>\n",
       "      <td>4.617519</td>\n",
       "      <td>4.027335</td>\n",
       "      <td>3.535616</td>\n",
       "      <td>...</td>\n",
       "      <td>4.811467</td>\n",
       "      <td>7.701967</td>\n",
       "      <td>9.784121</td>\n",
       "      <td>7.863848</td>\n",
       "      <td>6.756787</td>\n",
       "      <td>5.903747</td>\n",
       "      <td>5.439156</td>\n",
       "      <td>2.513377</td>\n",
       "      <td>6.891647</td>\n",
       "      <td>5.035161</td>\n",
       "    </tr>\n",
       "    <tr>\n",
       "      <th>Cell929</th>\n",
       "      <td>2.707669</td>\n",
       "      <td>0.000000</td>\n",
       "      <td>0.000000</td>\n",
       "      <td>0.000000</td>\n",
       "      <td>6.652311</td>\n",
       "      <td>6.231462</td>\n",
       "      <td>1.074869</td>\n",
       "      <td>4.225313</td>\n",
       "      <td>3.454015</td>\n",
       "      <td>3.943443</td>\n",
       "      <td>...</td>\n",
       "      <td>3.454015</td>\n",
       "      <td>7.284609</td>\n",
       "      <td>9.031446</td>\n",
       "      <td>8.117033</td>\n",
       "      <td>6.553799</td>\n",
       "      <td>5.666583</td>\n",
       "      <td>5.976494</td>\n",
       "      <td>3.454015</td>\n",
       "      <td>6.273341</td>\n",
       "      <td>5.390311</td>\n",
       "    </tr>\n",
       "    <tr>\n",
       "      <th>Cell930</th>\n",
       "      <td>5.279845</td>\n",
       "      <td>4.788437</td>\n",
       "      <td>1.264149</td>\n",
       "      <td>2.724087</td>\n",
       "      <td>6.710631</td>\n",
       "      <td>5.428130</td>\n",
       "      <td>1.264149</td>\n",
       "      <td>4.713332</td>\n",
       "      <td>1.927407</td>\n",
       "      <td>2.380054</td>\n",
       "      <td>...</td>\n",
       "      <td>3.001671</td>\n",
       "      <td>7.155702</td>\n",
       "      <td>10.114348</td>\n",
       "      <td>8.085116</td>\n",
       "      <td>6.925519</td>\n",
       "      <td>6.312953</td>\n",
       "      <td>5.762096</td>\n",
       "      <td>3.234368</td>\n",
       "      <td>7.169816</td>\n",
       "      <td>4.992805</td>\n",
       "    </tr>\n",
       "  </tbody>\n",
       "</table>\n",
       "<p>920 rows × 1254 columns</p>\n",
       "</div>"
      ],
      "text/plain": [
       "         Gene4247  Gene4771  Gene2697  Gene3227  Gene2112  Gene4564  Gene2255  \\\n",
       "Cell1    5.249972  4.449087  3.738908  0.825343  6.652233  2.678904  2.493580   \n",
       "Cell2    0.000000  4.900236  3.483696  3.369842  5.956972  3.246227  0.886652   \n",
       "Cell3    0.000000  5.048295  4.261829  1.049384  6.768637  5.048295  0.000000   \n",
       "Cell4    4.256267  0.000000  2.328973  5.052929  6.434964  4.962714  0.000000   \n",
       "Cell5    4.358955  2.986671  3.469210  4.486004  3.199402  3.830173  3.295055   \n",
       "...           ...       ...       ...       ...       ...       ...       ...   \n",
       "Cell926  3.469309  3.469309  4.219730  1.175969  6.372674  5.368150  3.295154   \n",
       "Cell927  5.078278  1.065440  0.000000  4.026739  6.681324  0.000000  1.065440   \n",
       "Cell928  4.027335  3.011554  4.870725  3.802324  6.961458  5.273382  1.122598   \n",
       "Cell929  2.707669  0.000000  0.000000  0.000000  6.652311  6.231462  1.074869   \n",
       "Cell930  5.279845  4.788437  1.264149  2.724087  6.710631  5.428130  1.264149   \n",
       "\n",
       "         Gene7953  Gene7815    Gene27  ...  Gene7211  Gene3286   Gene3655  \\\n",
       "Cell1    4.594470  4.229203  2.843109  ...  3.820001  7.917971  10.029918   \n",
       "Cell2    2.390779  3.369842  2.607220  ...  3.589218  7.166032   9.697587   \n",
       "Cell3    1.049384  5.739109  4.261829  ...  3.256582  7.488891   9.780013   \n",
       "Cell4    4.178239  4.531981  1.004407  ...  4.400701  7.339663   9.964442   \n",
       "Cell5    4.065390  3.199402  3.696421  ...  4.486004  7.727521  10.134864   \n",
       "...           ...       ...       ...  ...       ...       ...        ...   \n",
       "Cell926  3.097051  3.295154  3.892771  ...  3.892771  7.261089   9.640660   \n",
       "Cell927  4.443829  1.065440  2.425253  ...  4.026739  7.458195   9.894428   \n",
       "Cell928  4.617519  4.027335  3.535616  ...  4.811467  7.701967   9.784121   \n",
       "Cell929  4.225313  3.454015  3.943443  ...  3.454015  7.284609   9.031446   \n",
       "Cell930  4.713332  1.927407  2.380054  ...  3.001671  7.155702  10.114348   \n",
       "\n",
       "          Gene424  Gene4610  Gene6059  Gene7393   Gene671  Gene3201  Gene7355  \n",
       "Cell1    7.258098  6.942152  5.802423  6.641118  2.678904  7.228699  5.389349  \n",
       "Cell2    7.451381  6.719900  6.424386  6.014937  3.246227  6.242250  6.052325  \n",
       "Cell3    7.666494  7.140815  5.709924  6.453538  4.091250  6.768637  4.901129  \n",
       "Cell4    8.247177  6.681140  5.293978  6.516499  3.007704  7.008732  3.915107  \n",
       "Cell5    7.544997  6.518429  5.323366  5.277261  3.696421  6.498473  5.103195  \n",
       "...           ...       ...       ...       ...       ...       ...       ...  \n",
       "Cell926  7.588234  7.002299  5.323472  5.752126  3.097051  6.160456  5.076628  \n",
       "Cell927  7.449202  6.586078  5.710447  6.393234  4.646265  6.448435  4.026739  \n",
       "Cell928  7.863848  6.756787  5.903747  5.439156  2.513377  6.891647  5.035161  \n",
       "Cell929  8.117033  6.553799  5.666583  5.976494  3.454015  6.273341  5.390311  \n",
       "Cell930  8.085116  6.925519  6.312953  5.762096  3.234368  7.169816  4.992805  \n",
       "\n",
       "[920 rows x 1254 columns]"
      ]
     },
     "execution_count": 11,
     "metadata": {},
     "output_type": "execute_result"
    }
   ],
   "source": [
    "expression_df"
   ]
  },
  {
   "cell_type": "code",
   "execution_count": 12,
   "metadata": {},
   "outputs": [],
   "source": [
    "data = sc.AnnData(expression_df)"
   ]
  },
  {
   "cell_type": "code",
   "execution_count": 13,
   "metadata": {},
   "outputs": [
    {
     "name": "stdout",
     "output_type": "stream",
     "text": [
      "Computing PCA...\n",
      "Runtime for run_pca(): 9.791505336761475\n",
      "Components computed: 300\n"
     ]
    }
   ],
   "source": [
    "from utils.util import run_pca\n",
    "\n",
    "# Apply PCA on the raw data for initial denoising\n",
    "print('Computing PCA...')\n",
    "X_pca, va, n_comps = run_pca(data, use_hvg=False, n_components=300)\n",
    "data.obsm['X_pca'] = X_pca\n",
    "print(f'Components computed: {n_comps}')"
   ]
  },
  {
   "cell_type": "code",
   "execution_count": 14,
   "metadata": {},
   "outputs": [
    {
     "name": "stdout",
     "output_type": "stream",
     "text": [
      "Calculating MAGIC...\n",
      "  Running MAGIC on 920 cells and 1254 genes.\n",
      "  Calculating graph and diffusion operator...\n",
      "    Calculating PCA...\n"
     ]
    },
    {
     "name": "stdout",
     "output_type": "stream",
     "text": [
      "    Calculated PCA in 8.96 seconds.\n",
      "    Calculating KNN search...\n",
      "    Calculated KNN search in 0.36 seconds.\n",
      "    Calculating affinities...\n",
      "    Calculated affinities in 0.26 seconds.\n",
      "  Calculated graph and diffusion operator in 9.60 seconds.\n",
      "  Calculating imputation...\n",
      "  Calculated imputation in 0.02 seconds.\n",
      "Calculated MAGIC in 9.72 seconds.\n"
     ]
    }
   ],
   "source": [
    "import magic\n",
    "\n",
    "# Apply MAGIC for PCA data denoising\n",
    "magic_op = magic.MAGIC(random_state=random_seed, solver='approximate', n_pca=n_comps)\n",
    "X_magic = magic_op.fit_transform(data.X, genes='pca_only')\n",
    "data.obsm['X_magic_pca'] = X_magic"
   ]
  },
  {
   "cell_type": "code",
   "execution_count": 15,
   "metadata": {},
   "outputs": [
    {
     "name": "stdout",
     "output_type": "stream",
     "text": [
      "Generating initial clusters\n"
     ]
    },
    {
     "name": "stdout",
     "output_type": "stream",
     "text": [
      "Runtime for determine_cell_clusters(): 7.6821448802948\n",
      "Training for episode: 1\n"
     ]
    },
    {
     "name": "stderr",
     "output_type": "stream",
     "text": [
      "100%|██████████| 30/30 [00:10<00:00,  2.79it/s, Avg Loss for epoch:0.18288812041282654]\n",
      "100%|██████████| 920/920 [00:00<00:00, 4730.66it/s]\n"
     ]
    },
    {
     "name": "stdout",
     "output_type": "stream",
     "text": [
      "Re-generating clusters for episode: 1\n",
      "Runtime for determine_cell_clusters(): 0.336200475692749\n",
      "Time Elapsed for epoch: 11.305208444595337s\n",
      "Training for episode: 2\n"
     ]
    },
    {
     "name": "stderr",
     "output_type": "stream",
     "text": [
      "100%|██████████| 30/30 [00:11<00:00,  2.72it/s, Avg Loss for epoch:0.12429450452327728]\n",
      "100%|██████████| 920/920 [00:00<00:00, 2094.33it/s]\n"
     ]
    },
    {
     "name": "stdout",
     "output_type": "stream",
     "text": [
      "Re-generating clusters for episode: 2\n",
      "Runtime for determine_cell_clusters(): 0.3805351257324219\n",
      "Time Elapsed for epoch: 11.876247644424438s\n",
      "Training for episode: 3\n"
     ]
    },
    {
     "name": "stderr",
     "output_type": "stream",
     "text": [
      "100%|██████████| 30/30 [00:12<00:00,  2.45it/s, Avg Loss for epoch:0.13810948096215725]\n",
      "100%|██████████| 920/920 [00:00<00:00, 2478.92it/s]\n"
     ]
    },
    {
     "name": "stdout",
     "output_type": "stream",
     "text": [
      "Re-generating clusters for episode: 3\n",
      "Runtime for determine_cell_clusters(): 0.40160107612609863\n",
      "Time Elapsed for epoch: 13.023964643478394s\n",
      "Training for episode: 4\n"
     ]
    },
    {
     "name": "stderr",
     "output_type": "stream",
     "text": [
      "100%|██████████| 30/30 [00:10<00:00,  2.76it/s, Avg Loss for epoch:0.11797424219548702]\n",
      "100%|██████████| 920/920 [00:00<00:00, 3908.34it/s]\n"
     ]
    },
    {
     "name": "stdout",
     "output_type": "stream",
     "text": [
      "Re-generating clusters for episode: 4\n",
      "Runtime for determine_cell_clusters(): 0.2729299068450928\n",
      "Time Elapsed for epoch: 11.400138854980469s\n",
      "Training for episode: 5\n"
     ]
    },
    {
     "name": "stderr",
     "output_type": "stream",
     "text": [
      "100%|██████████| 30/30 [00:12<00:00,  2.50it/s, Avg Loss for epoch:0.10988988727331161]\n",
      "100%|██████████| 920/920 [00:00<00:00, 1409.41it/s]\n"
     ]
    },
    {
     "name": "stdout",
     "output_type": "stream",
     "text": [
      "Re-generating clusters for episode: 5\n",
      "Runtime for determine_cell_clusters(): 0.3947746753692627\n",
      "Time Elapsed for epoch: 13.071840524673462s\n",
      "Runtime for train_metric_learner(): 69.99424290657043\n"
     ]
    }
   ],
   "source": [
    "import warnings\n",
    "from train_metric import train_metric_learner\n",
    "\n",
    "with warnings.catch_warnings():\n",
    "    # Filter out user warnings from PyTorch about saving scheduler state\n",
    "    warnings.simplefilter(\"ignore\")\n",
    "    train_metric_learner(data, n_episodes=5, n_metric_epochs=30, obsm_data_key='X_magic_pca', code_size=10,\n",
    "        backend='leiden', device='cpu', save_path='./metric_1',\n",
    "        cluster_kwargs={'random_state': 0, 'resolution': 1.0}, nn_kwargs={'random_state': 0, 'n_neighbors': 50},\n",
    "        trainer_kwargs={'optimizer': 'SGD', 'lr': 0.01, 'batch_size': 256}\n",
    "    )"
   ]
  },
  {
   "cell_type": "code",
   "execution_count": 16,
   "metadata": {},
   "outputs": [
    {
     "data": {
      "text/plain": [
       "AxisArrays with keys: X_pca, X_magic_pca, metric_embedding"
      ]
     },
     "execution_count": 16,
     "metadata": {},
     "output_type": "execute_result"
    }
   ],
   "source": [
    "data.obsm"
   ]
  },
  {
   "cell_type": "code",
   "execution_count": 17,
   "metadata": {},
   "outputs": [
    {
     "name": "stdout",
     "output_type": "stream",
     "text": [
      "Calculating MAGIC...\n",
      "  Running MAGIC on 920 cells and 1254 genes.\n",
      "  Calculating graph and diffusion operator...\n",
      "    Calculating PCA...\n",
      "    Calculated PCA in 2.95 seconds.\n",
      "    Calculating KNN search...\n",
      "    Calculated KNN search in 0.14 seconds.\n",
      "    Calculating affinities...\n",
      "    Calculated affinities in 0.11 seconds.\n",
      "  Calculated graph and diffusion operator in 3.21 seconds.\n",
      "  Calculating imputation...\n",
      "Calculated MAGIC in 3.30 seconds.\n"
     ]
    }
   ],
   "source": [
    "import magic\n",
    "\n",
    "magic_op = magic.MAGIC(random_state=0, solver='approximate')\n",
    "X_magic = magic_op.fit_transform(data.X, genes='all_genes')\n",
    "data.obsm['X_magic'] = X_magic"
   ]
  },
  {
   "cell_type": "code",
   "execution_count": 18,
   "metadata": {},
   "outputs": [],
   "source": [
    "import numpy as np\n",
    "from models.ti.connectivity import compute_directed_cluster_connectivity, compute_undirected_cluster_connectivity\n",
    "from models.ti.graph import compute_trajectory_graph, compute_connectivity_graph\n",
    "from utils.plot import plot_connectivity_graph, plot_trajectory_graph\n",
    "from utils.util import get_start_cell_cluster_id"
   ]
  },
  {
   "cell_type": "code",
   "execution_count": 19,
   "metadata": {},
   "outputs": [],
   "source": [
    "start_cell_ids = 1"
   ]
  },
  {
   "cell_type": "code",
   "execution_count": 20,
   "metadata": {},
   "outputs": [],
   "source": [
    "%%R -o start_cell_ids\n",
    "start_cell_ids = dataset$prior_information$start_id"
   ]
  },
  {
   "cell_type": "code",
   "execution_count": 21,
   "metadata": {},
   "outputs": [
    {
     "data": {
      "text/plain": [
       "['Cell726']"
      ]
     },
     "execution_count": 21,
     "metadata": {},
     "output_type": "execute_result"
    }
   ],
   "source": [
    "start_cell_ids = list(start_cell_ids)\n",
    "start_cell_ids"
   ]
  },
  {
   "cell_type": "code",
   "execution_count": 22,
   "metadata": {},
   "outputs": [
    {
     "data": {
      "text/plain": [
       "{1}"
      ]
     },
     "execution_count": 22,
     "metadata": {},
     "output_type": "execute_result"
    }
   ],
   "source": [
    "communities = data.obs['metric_clusters'].astype(int)\n",
    "adj_conn = data.obsp['connectivities']\n",
    "adj_dist = data.obsp['distances']\n",
    "# start_cell_ids = data.obs['palantir_pseudotime'].idxmin()\n",
    "# start_cell_ids = [start_cell_ids] if isinstance(start_cell_ids, str) else list(start_cell_ids)\n",
    "start_cluster_ids = get_start_cell_cluster_id(data, start_cell_ids, communities)\n",
    "start_cluster_ids"
   ]
  },
  {
   "cell_type": "code",
   "execution_count": 23,
   "metadata": {},
   "outputs": [],
   "source": [
    "adata = data.copy()"
   ]
  },
  {
   "cell_type": "code",
   "execution_count": 24,
   "metadata": {},
   "outputs": [],
   "source": [
    "if 'metric_clustering_scores' in adata.uns:\n",
    "    # Convert each element in the list to string\n",
    "    adata.uns['metric_clustering_scores'] = [\n",
    "        str(x) for x in adata.uns['metric_clustering_scores']\n",
    "    ]\n"
   ]
  },
  {
   "cell_type": "code",
   "execution_count": 25,
   "metadata": {},
   "outputs": [],
   "source": [
    "def sanitize_uns(data):\n",
    "    for key in list(data.uns.keys()):\n",
    "        # Handle lists\n",
    "        if isinstance(data.uns[key], list):\n",
    "            data.uns[key] = [str(x) for x in data.uns[key]]\n",
    "        # Handle DataFrames\n",
    "        elif isinstance(data.uns[key], pd.DataFrame):\n",
    "            data.uns[key] = data.uns[key].astype(str)\n",
    "    return data\n",
    "\n",
    "adata = sanitize_uns(adata)\n"
   ]
  },
  {
   "cell_type": "code",
   "execution_count": 26,
   "metadata": {},
   "outputs": [],
   "source": [
    "# Convert categorical columns to strings\n",
    "for col in adata.obs.select_dtypes(['category', 'object']):\n",
    "    adata.obs[col] = adata.obs[col].astype(str).fillna('')\n"
   ]
  },
  {
   "cell_type": "code",
   "execution_count": 27,
   "metadata": {},
   "outputs": [],
   "source": [
    "adata.write(\"multifurcating_1_processed.h5ad\")"
   ]
  },
  {
   "cell_type": "code",
   "execution_count": 28,
   "metadata": {},
   "outputs": [],
   "source": [
    "import networkx as nx\n",
    "\n",
    "from sklearn.neighbors import NearestNeighbors\n",
    "from models.ti.pseudotime import compute_pseudotime\n",
    "from models.ti.pseudotime_v2 import compute_pseudotime\n",
    "from models.ti.graph import compute_trajectory_graph_v2\n",
    "from utils.plot import plot_trajectory_graph_v2\n",
    "from utils.plot import plot_pseudotime"
   ]
  },
  {
   "cell_type": "code",
   "execution_count": 29,
   "metadata": {},
   "outputs": [],
   "source": [
    "X = data.obsm['metric_embedding']\n",
    "\n",
    "n_neighbors = 30\n",
    "nbrs = NearestNeighbors(n_neighbors=n_neighbors, metric=\"euclidean\").fit(X)\n",
    "adj_dist = nbrs.kneighbors_graph(X, mode=\"distance\")\n",
    "adj_conn = nbrs.kneighbors_graph(X)"
   ]
  },
  {
   "cell_type": "code",
   "execution_count": 30,
   "metadata": {},
   "outputs": [
    {
     "name": "stderr",
     "output_type": "stream",
     "text": [
      "/home/satwik/margaret-env/lib/python3.12/site-packages/umap/umap_.py:1952: UserWarning: n_jobs value 1 overridden to 1 by setting random_state. Use no seed for parallelism.\n",
      "  warn(\n"
     ]
    }
   ],
   "source": [
    "from umap import UMAP\n",
    "\n",
    "# Reduce 10D embeddings to 2D\n",
    "reducer = UMAP(n_components=2, random_state=42)\n",
    "embeddings_2d = reducer.fit_transform(data.obsm['metric_embedding'])\n"
   ]
  },
  {
   "cell_type": "code",
   "execution_count": 31,
   "metadata": {},
   "outputs": [],
   "source": [
    "data.obsm[\"X_met_embedding\"] = embeddings_2d"
   ]
  },
  {
   "cell_type": "code",
   "execution_count": 32,
   "metadata": {},
   "outputs": [],
   "source": [
    "un_connectivity = pd.read_csv(\"un_connectivity_1.csv\", index_col=0)"
   ]
  },
  {
   "cell_type": "code",
   "execution_count": 33,
   "metadata": {},
   "outputs": [],
   "source": [
    "un_connectivity.index = un_connectivity.index.astype(int)\n",
    "un_connectivity.columns = un_connectivity.columns.astype(int)\n"
   ]
  },
  {
   "cell_type": "code",
   "execution_count": 34,
   "metadata": {},
   "outputs": [],
   "source": [
    "# Convert pandas/categorical types to numpy.int64\n",
    "data.obs['metric_clusters'] = data.obs['metric_clusters'].astype(int)\n",
    "communities = data.obs['metric_clusters'].astype(int)\n"
   ]
  },
  {
   "cell_type": "code",
   "execution_count": 35,
   "metadata": {},
   "outputs": [
    {
     "name": "stdout",
     "output_type": "stream",
     "text": [
      "Runtime for compute_connectivity_graph(): 0.015256166458129883\n",
      "Runtime for compute_pseudotime(): 0.25641727447509766\n"
     ]
    }
   ],
   "source": [
    "# v2 pseudotime\n",
    "G_undirected, node_positions = compute_connectivity_graph(data.obsm['X_met_embedding'], data.obs['metric_clusters'], un_connectivity)\n",
    "adj_cluster = nx.to_pandas_adjacency(G_undirected)\n",
    "pseudotime = compute_pseudotime(data, start_cell_ids, adj_dist, adj_cluster)"
   ]
  },
  {
   "cell_type": "code",
   "execution_count": 36,
   "metadata": {},
   "outputs": [
    {
     "data": {
      "text/plain": [
       "Cell1      12.150024\n",
       "Cell2       7.975459\n",
       "Cell3       7.951244\n",
       "Cell4       3.585737\n",
       "Cell5       6.142868\n",
       "             ...    \n",
       "Cell926    10.339589\n",
       "Cell927     2.746470\n",
       "Cell928     9.176491\n",
       "Cell929     9.884953\n",
       "Cell930     1.135687\n",
       "Length: 920, dtype: float64"
      ]
     },
     "execution_count": 36,
     "metadata": {},
     "output_type": "execute_result"
    }
   ],
   "source": [
    "pseudotime"
   ]
  },
  {
   "cell_type": "code",
   "execution_count": 37,
   "metadata": {},
   "outputs": [
    {
     "data": {
      "image/png": "[encoded data removed]",
      "text/plain": [
       "<Figure size 800x800 with 2 Axes>"
      ]
     },
     "metadata": {},
     "output_type": "display_data"
    }
   ],
   "source": [
    "plot_pseudotime(\n",
    "    data,\n",
    "    embedding_key=\"X_met_embedding\",\n",
    "    pseudotime_key=\"metric_pseudotime_v2\",\n",
    "    s=1,\n",
    "    cmap='plasma',\n",
    "    figsize=(8, 8),\n",
    "    cb_axes_pos=[0.92, 0.55, 0.02, 0.3]\n",
    ")"
   ]
  },
  {
   "cell_type": "code",
   "execution_count": 39,
   "metadata": {},
   "outputs": [
    {
     "name": "stdout",
     "output_type": "stream",
     "text": [
      "Runtime for compute_directed_cluster_connectivity(): 0.14096903800964355\n"
     ]
    }
   ],
   "source": [
    "connectivity, z_score = compute_directed_cluster_connectivity(communities, adj_conn, threshold=2)"
   ]
  },
  {
   "cell_type": "code",
   "execution_count": 40,
   "metadata": {},
   "outputs": [
    {
     "name": "stdout",
     "output_type": "stream",
     "text": [
      "Runtime for compute_trajectory_graph_v2(): 0.030820369720458984\n",
      "Runtime for compute_trajectory_graph_v2(): 0.03535580635070801\n"
     ]
    },
    {
     "data": {
      "image/png": "[encoded data removed]",
      "text/plain": [
       "<Figure size 1600x1200 with 1 Axes>"
      ]
     },
     "metadata": {},
     "output_type": "display_data"
    }
   ],
   "source": [
    "# Compute directed graph v2\n",
    "G_directed_v2 = compute_trajectory_graph_v2(pseudotime, adj_cluster, data.obs['metric_clusters'], connectivity)\n",
    "plot_trajectory_graph_v2(pseudotime, adj_cluster, data.obs['metric_clusters'], connectivity, node_positions, offset=0.2)"
   ]
  },
  {
   "cell_type": "code",
   "execution_count": 42,
   "metadata": {},
   "outputs": [],
   "source": [
    "from utils.plot import generate_plot_embeddings, plot_gene_expression, plot_embeddings, plot_clusters\n",
    "import matplotlib.pyplot as plt"
   ]
  },
  {
   "cell_type": "code",
   "execution_count": 43,
   "metadata": {},
   "outputs": [
    {
     "name": "stdout",
     "output_type": "stream",
     "text": [
      "Runtime for generate_plot_embeddings(): 4.928558588027954\n"
     ]
    }
   ],
   "source": [
    "X_embedded = generate_plot_embeddings(data.obsm['metric_embedding'], method='tsne', perplexity=150, random_state=0)\n",
    "data.obsm['X_met_embedding'] = X_embedded"
   ]
  },
  {
   "cell_type": "code",
   "execution_count": 44,
   "metadata": {},
   "outputs": [
    {
     "data": {
      "image/png": "[encoded data removed]",
      "text/plain": [
       "<Figure size 800x800 with 1 Axes>"
      ]
     },
     "metadata": {},
     "output_type": "display_data"
    }
   ],
   "source": [
    "plot_embeddings(data.obsm['X_met_embedding'], s=1, figsize=(8, 8))"
   ]
  },
  {
   "cell_type": "code",
   "execution_count": null,
   "metadata": {},
   "outputs": [],
   "source": []
  }
 ],
 "metadata": {
  "kernelspec": {
   "display_name": "Python (margaret-env)",
   "language": "python",
   "name": "margaret-env"
  },
  "language_info": {
   "codemirror_mode": {
    "name": "ipython",
    "version": 3
   },
   "file_extension": ".py",
   "mimetype": "text/x-python",
   "name": "python",
   "nbconvert_exporter": "python",
   "pygments_lexer": "ipython3",
   "version": "3.12.3"
  }
 },
 "nbformat": 4,
 "nbformat_minor": 4
}
