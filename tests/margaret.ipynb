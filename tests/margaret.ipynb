{
 "cells": [
  {
   "cell_type": "code",
   "execution_count": 1,
   "metadata": {},
   "outputs": [
    {
     "data": {
      "text/plain": [
       "<torch._C.Generator at 0x745d7ef1bf70>"
      ]
     },
     "execution_count": 1,
     "metadata": {},
     "output_type": "execute_result"
    }
   ],
   "source": [
    "import scanpy as sc\n",
    "import torch\n",
    "import numpy as np\n",
    "\n",
    "random_seed = 0\n",
    "np.random.seed(random_seed)\n",
    "torch.manual_seed(random_seed)"
   ]
  },
  {
   "cell_type": "code",
   "execution_count": 2,
   "metadata": {},
   "outputs": [],
   "source": [
    "import pandas as pd\n",
    "import os\n",
    "import matplotlib as mp\n",
    "import matplotlib.pyplot as plt\n",
    "import numpy as np\n",
    "%matplotlib inline"
   ]
  },
  {
   "cell_type": "code",
   "execution_count": 3,
   "metadata": {},
   "outputs": [
    {
     "name": "stderr",
     "output_type": "stream",
     "text": [
      "/tmp/ipykernel_124584/2174054843.py:8: DeprecationWarning: The global conversion available with activate() is deprecated and will be removed in the next major release. Use a local converter.\n",
      "  anndata2ri.activate()\n"
     ]
    }
   ],
   "source": [
    "import anndata2ri\n",
    "import logging\n",
    "import rpy2.rinterface_lib.callbacks as rcb\n",
    "import rpy2.robjects as ro\n",
    "\n",
    "rcb.logger.setLevel(logging.ERROR)\n",
    "ro.pandas2ri.activate()\n",
    "anndata2ri.activate()\n",
    "\n",
    "%load_ext rpy2.ipython"
   ]
  },
  {
   "cell_type": "code",
   "execution_count": 4,
   "metadata": {},
   "outputs": [],
   "source": [
    "from utils.util import run_pca\n",
    "import magic\n",
    "import warnings\n",
    "from train_metric import train_metric_learner\n",
    "import networkx as nx\n",
    "import sklearn"
   ]
  },
  {
   "cell_type": "code",
   "execution_count": 5,
   "metadata": {},
   "outputs": [],
   "source": [
    "import os\n",
    "try:\n",
    "\t\tif os.path.exists(\"tree_6.rds\"):\n",
    "\t\t\t%R dataset <- readRDS(\"tree_6.rds\")\n",
    "\t\telse:\n",
    "\t\t\tprint(\"File 'tree_6.rds' not found.\")\n",
    "except:\n",
    "\t\tif os.path.exists(\"tree_6.rds\"):\n",
    "\t\t\t%R dataset <- readRDS(\"tree_6.rds\")\n",
    "\t\telse:\n",
    "\t\t\tprint(\"File 'tree_6.rds' not found.\")"
   ]
  },
  {
   "cell_type": "code",
   "execution_count": 6,
   "metadata": {},
   "outputs": [
    {
     "name": "stdout",
     "output_type": "stream",
     "text": [
      "List of 19\n",
      " $ id                   : chr \"synthetic/dyntoy/tree_6\"\n",
      " $ cell_ids             : chr [1:4880] \"C1\" \"C2\" \"C3\" \"C4\" ...\n",
      " $ cell_info            :Classes ‘tbl_df’, ‘tbl’ and 'data.frame':\t4880 obs. of  1 variable:\n",
      "  ..$ cell_id: chr [1:4880] \"C1\" \"C2\" \"C3\" \"C4\" ...\n",
      " $ model                : chr \"tree\"\n",
      " $ milestone_ids        : chr [1:12] \"M1\" \"M10\" \"M11\" \"M12\" ...\n",
      " $ milestone_network    :Classes ‘tbl_df’, ‘tbl’ and 'data.frame':\t11 obs. of  4 variables:\n",
      "  ..$ from    : chr [1:11] \"M3\" \"M3\" \"M3\" \"M6\" ...\n",
      "  ..$ to      : chr [1:11] \"M4\" \"M5\" \"M2\" \"M7\" ...\n",
      "  ..$ length  : num [1:11] 0.522 0.591 0.722 0.149 0.445 ...\n",
      "  ..$ directed: logi [1:11] TRUE TRUE TRUE TRUE TRUE TRUE ...\n",
      " $ divergence_regions   :Classes ‘tbl_df’, ‘tbl’ and 'data.frame':\t7 obs. of  3 variables:\n",
      "  ..$ divergence_id: chr [1:7] \"divergence_M6\" \"divergence_M6\" \"divergence_M6\" \"divergence_M8\" ...\n",
      "  ..$ milestone_id : chr [1:7] \"M6\" \"M7\" \"M8\" \"M8\" ...\n",
      "  ..$ is_start     : logi [1:7] TRUE FALSE FALSE TRUE FALSE FALSE ...\n",
      " $ milestone_percentages:Classes ‘tbl_df’, ‘tbl’ and 'data.frame':\t11132 obs. of  3 variables:\n",
      "  ..$ cell_id     : chr [1:11132] \"C1\" \"C10\" \"C100\" \"C1000\" ...\n",
      "  ..$ milestone_id: chr [1:11132] \"M3\" \"M6\" \"M3\" \"M8\" ...\n",
      "  ..$ percentage  : num [1:11132] 0.744 0.703 0.467 0.858 0.756 ...\n",
      " $ progressions         :Classes ‘tbl_df’, ‘tbl’ and 'data.frame':\t6252 obs. of  4 variables:\n",
      "  ..$ cell_id   : chr [1:6252] \"C1\" \"C2\" \"C3\" \"C4\" ...\n",
      "  ..$ from      : chr [1:6252] \"M3\" \"M6\" \"M3\" \"M11\" ...\n",
      "  ..$ to        : chr [1:6252] \"M4\" \"M7\" \"M2\" \"M10\" ...\n",
      "  ..$ percentage: num [1:6252] 0.2563 0.0922 0.3701 0.1537 1 ...\n",
      " $ trajectory_type      : chr \"tree\"\n",
      " $ waypoint_cells       : chr [1:112] \"C838\" \"C622\" \"C4263\" \"C3403\" ...\n",
      " $ counts               : num [1:4880, 1:3870] 0 0 0 0 0 0 9 0 28 0 ...\n",
      "  ..- attr(*, \"dimnames\")=List of 2\n",
      "  .. ..$ : chr [1:4880] \"C1\" \"C2\" \"C3\" \"C4\" ...\n",
      "  .. ..$ : chr [1:3870] \"G1\" \"G2\" \"G3\" \"G4\" ...\n",
      " $ expression           : num [1:4880, 1:3870] 0 0 0 0 0 ...\n",
      "  ..- attr(*, \"dimnames\")=List of 2\n",
      "  .. ..$ : chr [1:4880] \"C1\" \"C2\" \"C3\" \"C4\" ...\n",
      "  .. ..$ : chr [1:3870] \"G1\" \"G2\" \"G3\" \"G4\" ...\n",
      " $ feature_info         :Classes ‘tbl_df’, ‘tbl’ and 'data.frame':\t3870 obs. of  2 variables:\n",
      "  ..$ feature_id  : chr [1:3870] \"G1\" \"G2\" \"G3\" \"G4\" ...\n",
      "  ..$ housekeeping: logi [1:3870] FALSE FALSE FALSE FALSE FALSE FALSE ...\n",
      " $ prior_information    :List of 12\n",
      "  ..$ start_milestones     : chr \"M1\"\n",
      "  ..$ start_id             : chr \"C1599\"\n",
      "  ..$ end_milestones       : chr [1:7] \"M10\" \"M12\" \"M2\" \"M4\" ...\n",
      "  ..$ end_id               : chr [1:7] \"C1637\" \"C1554\" \"C1575\" \"C1589\" ...\n",
      "  ..$ groups_id            :Classes ‘tbl_df’, ‘tbl’ and 'data.frame':\t4880 obs. of  2 variables:\n",
      "  .. ..$ cell_id : chr [1:4880] \"C1\" \"C10\" \"C100\" \"C1000\" ...\n",
      "  .. ..$ group_id: chr [1:4880] \"M3\" \"M6\" \"M2\" \"M8\" ...\n",
      "  ..$ groups_network       :Classes ‘tbl_df’, ‘tbl’ and 'data.frame':\t11 obs. of  2 variables:\n",
      "  .. ..$ from: chr [1:11] \"M3\" \"M3\" \"M3\" \"M6\" ...\n",
      "  .. ..$ to  : chr [1:11] \"M4\" \"M5\" \"M2\" \"M7\" ...\n",
      "  ..$ features_id          : chr [1:3870] \"G1\" \"G2\" \"G3\" \"G4\" ...\n",
      "  ..$ groups_n             : int 11\n",
      "  ..$ timecourse_continuous: Named num [1:4880] 2.041 0.583 2.293 1.381 2.052 ...\n",
      "  .. ..- attr(*, \"names\")= chr [1:4880] \"C1\" \"C10\" \"C100\" \"C1000\" ...\n",
      "  ..$ timecourse_discrete  : int [1:4880] 7 2 8 5 7 2 8 10 8 2 ...\n",
      "  ..$ start_n              : int 1\n",
      "  ..$ end_n                : int 7\n",
      " $ timings              :List of 7\n",
      "  ..$ init             : num 1.53e+09\n",
      "  ..$ milestone_network: num 1.53e+09\n",
      "  ..$ progressions     : num 1.53e+09\n",
      "  ..$ divergences      : num 1.53e+09\n",
      "  ..$ counts           : num 1.53e+09\n",
      "  ..$ normalisation    : num 1.53e+09\n",
      "  ..$ wrapping         : num 1.53e+09\n",
      " $ simulation_design    :List of 6\n",
      "  ..$ simulator        : chr \"dyntoy\"\n",
      "  ..$ simulator_version:'data.frame':\t3 obs. of  5 variables:\n",
      "  .. ..$ package: chr [1:3] \"dynbenchmark\" \"dynnormaliser\" \"dyntoy\"\n",
      "  .. ..$ *      : chr [1:3] \"\" \"\" \"\"\n",
      "  .. ..$ version: chr [1:3] \"0.0.0.9000\" \"0.1.0\" \"0.1.0\"\n",
      "  .. ..$ date   : chr [1:3] \"2018-07-31\" \"2018-07-30\" \"2018-07-30\"\n",
      "  .. ..$ source : chr [1:3] \"Github (dynverse/dynbenchmark@55eebb7)\" \"Github (dynverse/dynnormaliser@a3cd920)\" \"Github (dynverse/dyntoy@2722977)\"\n",
      "  ..$ topology_model   : chr \"tree\"\n",
      "  ..$ platform         :List of 5\n",
      "  .. ..$ estimate                     :Formal class 'TheMuscularDogBlinkedQuietly.' [package \"\"] with 0 slots\n",
      " Named list()\n",
      "  .. .. .. ..$ nBatches          : int 1\n",
      "  .. .. .. ..$ batchCells        : int 500\n",
      "  .. .. .. ..$ batch.facLoc      : num 0.1\n",
      "  .. .. .. ..$ batch.facScale    : num 0.1\n",
      "  .. .. .. ..$ mean.rate         : num 2.22\n",
      "  .. .. .. ..$ mean.shape        : num 0.56\n",
      "  .. .. .. ..$ lib.loc           : num 8.92\n",
      "  .. .. .. ..$ lib.scale         : num 0.545\n",
      "  .. .. .. ..$ lib.norm          : logi FALSE\n",
      "  .. .. .. ..$ out.prob          : num 0.00987\n",
      "  .. .. .. ..$ out.facLoc        : num 4.41\n",
      "  .. .. .. ..$ out.facScale      : num 0.79\n",
      "  .. .. .. ..$ nGroups           : num 1\n",
      "  .. .. .. ..$ group.prob        : num 1\n",
      "  .. .. .. ..$ de.prob           : num 0.1\n",
      "  .. .. .. ..$ de.downProb       : num 0.5\n",
      "  .. .. .. ..$ de.facLoc         : num 0.1\n",
      "  .. .. .. ..$ de.facScale       : num 0.4\n",
      "  .. .. .. ..$ bcv.common        : num 0.359\n",
      "  .. .. .. ..$ bcv.df            : num 81.1\n",
      "  .. .. .. ..$ dropout.type      : chr \"none\"\n",
      "  .. .. .. ..$ dropout.mid       : num -0.0497\n",
      "  .. .. .. ..$ dropout.shape     : num -1.1\n",
      "  .. .. .. ..$ path.from         : num 0\n",
      "  .. .. .. ..$ path.length       : num 100\n",
      "  .. .. .. ..$ path.skew         : num 0.5\n",
      "  .. .. .. ..$ path.nonlinearProb: num 0.1\n",
      "  .. .. .. ..$ path.sigmaFac     : num 0.8\n",
      "  .. .. .. ..$ nGenes            : int 23556\n",
      "  .. .. .. ..$ nCells            : int 500\n",
      "  .. .. .. ..$ seed              : int 495722\n",
      "  .. ..$ trajectory_dependent_features: num 0.164\n",
      "  .. ..$ n_cells                      : int 4977\n",
      "  .. ..$ n_features                   : int 23556\n",
      "  .. ..$ platform_id                  : chr \"real/oligodendrocyte-differentiation-subclusters_marques\"\n",
      "  ..$ dataset_id       : chr \"synthetic/dyntoy/tree_6\"\n",
      "  ..$ seed             : int 45338\n",
      " $ source               : chr \"synthetic/dyntoy\"\n",
      " $ directed             : logi TRUE\n",
      " - attr(*, \"class\")= chr [1:9] \"dynwrap::with_prior\" \"dynwrap::with_cell_waypoints\" \"dynwrap::with_timings\" \"dynwrap::with_prior\" ...\n"
     ]
    }
   ],
   "source": [
    "%%R\n",
    "str(dataset)"
   ]
  },
  {
   "cell_type": "code",
   "execution_count": 7,
   "metadata": {},
   "outputs": [],
   "source": [
    "expression_df = 1"
   ]
  },
  {
   "cell_type": "code",
   "execution_count": 8,
   "metadata": {},
   "outputs": [],
   "source": [
    "%%R -o expression_df\n",
    "expression_df <- as.data.frame(dataset$expression)"
   ]
  },
  {
   "cell_type": "code",
   "execution_count": 9,
   "metadata": {},
   "outputs": [
    {
     "data": {
      "text/html": [
       "<div>\n",
       "<style scoped>\n",
       "    .dataframe tbody tr th:only-of-type {\n",
       "        vertical-align: middle;\n",
       "    }\n",
       "\n",
       "    .dataframe tbody tr th {\n",
       "        vertical-align: top;\n",
       "    }\n",
       "\n",
       "    .dataframe thead th {\n",
       "        text-align: right;\n",
       "    }\n",
       "</style>\n",
       "<table border=\"1\" class=\"dataframe\">\n",
       "  <thead>\n",
       "    <tr style=\"text-align: right;\">\n",
       "      <th></th>\n",
       "      <th>G1</th>\n",
       "      <th>G2</th>\n",
       "      <th>G3</th>\n",
       "      <th>G4</th>\n",
       "      <th>G5</th>\n",
       "      <th>G6</th>\n",
       "      <th>G7</th>\n",
       "      <th>G8</th>\n",
       "      <th>G9</th>\n",
       "      <th>G10</th>\n",
       "      <th>...</th>\n",
       "      <th>G3861</th>\n",
       "      <th>G3862</th>\n",
       "      <th>G3863</th>\n",
       "      <th>G3864</th>\n",
       "      <th>G3865</th>\n",
       "      <th>G3866</th>\n",
       "      <th>G3867</th>\n",
       "      <th>G3868</th>\n",
       "      <th>G3869</th>\n",
       "      <th>G3870</th>\n",
       "    </tr>\n",
       "  </thead>\n",
       "  <tbody>\n",
       "    <tr>\n",
       "      <th>C1</th>\n",
       "      <td>0.000000</td>\n",
       "      <td>0.000000</td>\n",
       "      <td>0.000000</td>\n",
       "      <td>0.0</td>\n",
       "      <td>0.000000</td>\n",
       "      <td>0.000000</td>\n",
       "      <td>0.000000</td>\n",
       "      <td>0.000000</td>\n",
       "      <td>0.000000</td>\n",
       "      <td>1.988823</td>\n",
       "      <td>...</td>\n",
       "      <td>0.0</td>\n",
       "      <td>0.000000</td>\n",
       "      <td>2.794574</td>\n",
       "      <td>0.000000</td>\n",
       "      <td>0.000000</td>\n",
       "      <td>0.000000</td>\n",
       "      <td>0.000000</td>\n",
       "      <td>0.000000</td>\n",
       "      <td>0.0</td>\n",
       "      <td>0.00000</td>\n",
       "    </tr>\n",
       "    <tr>\n",
       "      <th>C2</th>\n",
       "      <td>0.000000</td>\n",
       "      <td>0.000000</td>\n",
       "      <td>0.000000</td>\n",
       "      <td>0.0</td>\n",
       "      <td>0.000000</td>\n",
       "      <td>1.787280</td>\n",
       "      <td>0.000000</td>\n",
       "      <td>0.000000</td>\n",
       "      <td>0.000000</td>\n",
       "      <td>0.000000</td>\n",
       "      <td>...</td>\n",
       "      <td>0.0</td>\n",
       "      <td>4.527616</td>\n",
       "      <td>0.000000</td>\n",
       "      <td>0.000000</td>\n",
       "      <td>5.373369</td>\n",
       "      <td>0.000000</td>\n",
       "      <td>0.000000</td>\n",
       "      <td>0.000000</td>\n",
       "      <td>0.0</td>\n",
       "      <td>6.73363</td>\n",
       "    </tr>\n",
       "    <tr>\n",
       "      <th>C3</th>\n",
       "      <td>0.000000</td>\n",
       "      <td>0.000000</td>\n",
       "      <td>0.000000</td>\n",
       "      <td>0.0</td>\n",
       "      <td>0.000000</td>\n",
       "      <td>0.000000</td>\n",
       "      <td>0.000000</td>\n",
       "      <td>0.000000</td>\n",
       "      <td>0.000000</td>\n",
       "      <td>0.000000</td>\n",
       "      <td>...</td>\n",
       "      <td>0.0</td>\n",
       "      <td>5.902891</td>\n",
       "      <td>0.000000</td>\n",
       "      <td>5.856388</td>\n",
       "      <td>0.000000</td>\n",
       "      <td>0.000000</td>\n",
       "      <td>0.000000</td>\n",
       "      <td>0.000000</td>\n",
       "      <td>0.0</td>\n",
       "      <td>0.00000</td>\n",
       "    </tr>\n",
       "    <tr>\n",
       "      <th>C4</th>\n",
       "      <td>0.000000</td>\n",
       "      <td>0.000000</td>\n",
       "      <td>0.000000</td>\n",
       "      <td>0.0</td>\n",
       "      <td>5.686773</td>\n",
       "      <td>0.000000</td>\n",
       "      <td>0.000000</td>\n",
       "      <td>0.000000</td>\n",
       "      <td>0.000000</td>\n",
       "      <td>0.000000</td>\n",
       "      <td>...</td>\n",
       "      <td>0.0</td>\n",
       "      <td>6.718062</td>\n",
       "      <td>0.000000</td>\n",
       "      <td>0.000000</td>\n",
       "      <td>0.000000</td>\n",
       "      <td>0.000000</td>\n",
       "      <td>0.000000</td>\n",
       "      <td>0.000000</td>\n",
       "      <td>0.0</td>\n",
       "      <td>0.00000</td>\n",
       "    </tr>\n",
       "    <tr>\n",
       "      <th>C5</th>\n",
       "      <td>0.000000</td>\n",
       "      <td>7.190506</td>\n",
       "      <td>6.139802</td>\n",
       "      <td>0.0</td>\n",
       "      <td>0.000000</td>\n",
       "      <td>0.000000</td>\n",
       "      <td>0.000000</td>\n",
       "      <td>0.000000</td>\n",
       "      <td>0.000000</td>\n",
       "      <td>0.000000</td>\n",
       "      <td>...</td>\n",
       "      <td>0.0</td>\n",
       "      <td>0.000000</td>\n",
       "      <td>0.000000</td>\n",
       "      <td>6.874765</td>\n",
       "      <td>0.000000</td>\n",
       "      <td>0.000000</td>\n",
       "      <td>0.000000</td>\n",
       "      <td>0.000000</td>\n",
       "      <td>0.0</td>\n",
       "      <td>0.00000</td>\n",
       "    </tr>\n",
       "    <tr>\n",
       "      <th>...</th>\n",
       "      <td>...</td>\n",
       "      <td>...</td>\n",
       "      <td>...</td>\n",
       "      <td>...</td>\n",
       "      <td>...</td>\n",
       "      <td>...</td>\n",
       "      <td>...</td>\n",
       "      <td>...</td>\n",
       "      <td>...</td>\n",
       "      <td>...</td>\n",
       "      <td>...</td>\n",
       "      <td>...</td>\n",
       "      <td>...</td>\n",
       "      <td>...</td>\n",
       "      <td>...</td>\n",
       "      <td>...</td>\n",
       "      <td>...</td>\n",
       "      <td>...</td>\n",
       "      <td>...</td>\n",
       "      <td>...</td>\n",
       "      <td>...</td>\n",
       "    </tr>\n",
       "    <tr>\n",
       "      <th>C4973</th>\n",
       "      <td>0.000000</td>\n",
       "      <td>0.000000</td>\n",
       "      <td>0.000000</td>\n",
       "      <td>0.0</td>\n",
       "      <td>4.966774</td>\n",
       "      <td>0.000000</td>\n",
       "      <td>0.000000</td>\n",
       "      <td>0.000000</td>\n",
       "      <td>0.000000</td>\n",
       "      <td>0.000000</td>\n",
       "      <td>...</td>\n",
       "      <td>0.0</td>\n",
       "      <td>0.000000</td>\n",
       "      <td>0.000000</td>\n",
       "      <td>0.000000</td>\n",
       "      <td>0.000000</td>\n",
       "      <td>0.000000</td>\n",
       "      <td>0.000000</td>\n",
       "      <td>4.712938</td>\n",
       "      <td>0.0</td>\n",
       "      <td>0.00000</td>\n",
       "    </tr>\n",
       "    <tr>\n",
       "      <th>C4974</th>\n",
       "      <td>0.000000</td>\n",
       "      <td>0.000000</td>\n",
       "      <td>0.000000</td>\n",
       "      <td>0.0</td>\n",
       "      <td>6.340976</td>\n",
       "      <td>0.000000</td>\n",
       "      <td>0.000000</td>\n",
       "      <td>0.000000</td>\n",
       "      <td>0.000000</td>\n",
       "      <td>3.842363</td>\n",
       "      <td>...</td>\n",
       "      <td>0.0</td>\n",
       "      <td>0.000000</td>\n",
       "      <td>0.000000</td>\n",
       "      <td>0.000000</td>\n",
       "      <td>0.000000</td>\n",
       "      <td>0.000000</td>\n",
       "      <td>3.493714</td>\n",
       "      <td>0.000000</td>\n",
       "      <td>0.0</td>\n",
       "      <td>0.00000</td>\n",
       "    </tr>\n",
       "    <tr>\n",
       "      <th>C4975</th>\n",
       "      <td>0.000000</td>\n",
       "      <td>0.000000</td>\n",
       "      <td>0.000000</td>\n",
       "      <td>0.0</td>\n",
       "      <td>0.000000</td>\n",
       "      <td>7.256302</td>\n",
       "      <td>0.000000</td>\n",
       "      <td>0.000000</td>\n",
       "      <td>0.000000</td>\n",
       "      <td>0.000000</td>\n",
       "      <td>...</td>\n",
       "      <td>0.0</td>\n",
       "      <td>0.000000</td>\n",
       "      <td>0.000000</td>\n",
       "      <td>0.000000</td>\n",
       "      <td>0.000000</td>\n",
       "      <td>0.000000</td>\n",
       "      <td>0.000000</td>\n",
       "      <td>0.000000</td>\n",
       "      <td>0.0</td>\n",
       "      <td>0.00000</td>\n",
       "    </tr>\n",
       "    <tr>\n",
       "      <th>C4976</th>\n",
       "      <td>0.000000</td>\n",
       "      <td>0.000000</td>\n",
       "      <td>0.000000</td>\n",
       "      <td>0.0</td>\n",
       "      <td>0.000000</td>\n",
       "      <td>0.000000</td>\n",
       "      <td>2.828678</td>\n",
       "      <td>5.882403</td>\n",
       "      <td>0.000000</td>\n",
       "      <td>0.000000</td>\n",
       "      <td>...</td>\n",
       "      <td>0.0</td>\n",
       "      <td>0.000000</td>\n",
       "      <td>0.000000</td>\n",
       "      <td>0.000000</td>\n",
       "      <td>0.000000</td>\n",
       "      <td>6.001736</td>\n",
       "      <td>0.000000</td>\n",
       "      <td>0.000000</td>\n",
       "      <td>0.0</td>\n",
       "      <td>0.00000</td>\n",
       "    </tr>\n",
       "    <tr>\n",
       "      <th>C4977</th>\n",
       "      <td>4.875117</td>\n",
       "      <td>0.000000</td>\n",
       "      <td>5.309406</td>\n",
       "      <td>0.0</td>\n",
       "      <td>0.000000</td>\n",
       "      <td>0.000000</td>\n",
       "      <td>0.000000</td>\n",
       "      <td>4.375502</td>\n",
       "      <td>5.277811</td>\n",
       "      <td>0.000000</td>\n",
       "      <td>...</td>\n",
       "      <td>0.0</td>\n",
       "      <td>0.000000</td>\n",
       "      <td>0.000000</td>\n",
       "      <td>4.695468</td>\n",
       "      <td>0.000000</td>\n",
       "      <td>0.000000</td>\n",
       "      <td>0.000000</td>\n",
       "      <td>0.000000</td>\n",
       "      <td>0.0</td>\n",
       "      <td>0.00000</td>\n",
       "    </tr>\n",
       "  </tbody>\n",
       "</table>\n",
       "<p>4880 rows × 3870 columns</p>\n",
       "</div>"
      ],
      "text/plain": [
       "             G1        G2        G3   G4        G5        G6        G7  \\\n",
       "C1     0.000000  0.000000  0.000000  0.0  0.000000  0.000000  0.000000   \n",
       "C2     0.000000  0.000000  0.000000  0.0  0.000000  1.787280  0.000000   \n",
       "C3     0.000000  0.000000  0.000000  0.0  0.000000  0.000000  0.000000   \n",
       "C4     0.000000  0.000000  0.000000  0.0  5.686773  0.000000  0.000000   \n",
       "C5     0.000000  7.190506  6.139802  0.0  0.000000  0.000000  0.000000   \n",
       "...         ...       ...       ...  ...       ...       ...       ...   \n",
       "C4973  0.000000  0.000000  0.000000  0.0  4.966774  0.000000  0.000000   \n",
       "C4974  0.000000  0.000000  0.000000  0.0  6.340976  0.000000  0.000000   \n",
       "C4975  0.000000  0.000000  0.000000  0.0  0.000000  7.256302  0.000000   \n",
       "C4976  0.000000  0.000000  0.000000  0.0  0.000000  0.000000  2.828678   \n",
       "C4977  4.875117  0.000000  5.309406  0.0  0.000000  0.000000  0.000000   \n",
       "\n",
       "             G8        G9       G10  ...  G3861     G3862     G3863     G3864  \\\n",
       "C1     0.000000  0.000000  1.988823  ...    0.0  0.000000  2.794574  0.000000   \n",
       "C2     0.000000  0.000000  0.000000  ...    0.0  4.527616  0.000000  0.000000   \n",
       "C3     0.000000  0.000000  0.000000  ...    0.0  5.902891  0.000000  5.856388   \n",
       "C4     0.000000  0.000000  0.000000  ...    0.0  6.718062  0.000000  0.000000   \n",
       "C5     0.000000  0.000000  0.000000  ...    0.0  0.000000  0.000000  6.874765   \n",
       "...         ...       ...       ...  ...    ...       ...       ...       ...   \n",
       "C4973  0.000000  0.000000  0.000000  ...    0.0  0.000000  0.000000  0.000000   \n",
       "C4974  0.000000  0.000000  3.842363  ...    0.0  0.000000  0.000000  0.000000   \n",
       "C4975  0.000000  0.000000  0.000000  ...    0.0  0.000000  0.000000  0.000000   \n",
       "C4976  5.882403  0.000000  0.000000  ...    0.0  0.000000  0.000000  0.000000   \n",
       "C4977  4.375502  5.277811  0.000000  ...    0.0  0.000000  0.000000  4.695468   \n",
       "\n",
       "          G3865     G3866     G3867     G3868  G3869    G3870  \n",
       "C1     0.000000  0.000000  0.000000  0.000000    0.0  0.00000  \n",
       "C2     5.373369  0.000000  0.000000  0.000000    0.0  6.73363  \n",
       "C3     0.000000  0.000000  0.000000  0.000000    0.0  0.00000  \n",
       "C4     0.000000  0.000000  0.000000  0.000000    0.0  0.00000  \n",
       "C5     0.000000  0.000000  0.000000  0.000000    0.0  0.00000  \n",
       "...         ...       ...       ...       ...    ...      ...  \n",
       "C4973  0.000000  0.000000  0.000000  4.712938    0.0  0.00000  \n",
       "C4974  0.000000  0.000000  3.493714  0.000000    0.0  0.00000  \n",
       "C4975  0.000000  0.000000  0.000000  0.000000    0.0  0.00000  \n",
       "C4976  0.000000  6.001736  0.000000  0.000000    0.0  0.00000  \n",
       "C4977  0.000000  0.000000  0.000000  0.000000    0.0  0.00000  \n",
       "\n",
       "[4880 rows x 3870 columns]"
      ]
     },
     "execution_count": 9,
     "metadata": {},
     "output_type": "execute_result"
    }
   ],
   "source": [
    "expression_df"
   ]
  },
  {
   "cell_type": "code",
   "execution_count": 10,
   "metadata": {},
   "outputs": [],
   "source": [
    "data = sc.AnnData(expression_df)"
   ]
  },
  {
   "cell_type": "code",
   "execution_count": 11,
   "metadata": {},
   "outputs": [
    {
     "name": "stdout",
     "output_type": "stream",
     "text": [
      "Computing PCA...\n",
      "Runtime for run_pca(): 18.754857301712036\n",
      "Components computed: 300\n"
     ]
    }
   ],
   "source": [
    "from utils.util import run_pca\n",
    "\n",
    "# Apply PCA on the raw data for initial denoising\n",
    "print('Computing PCA...')\n",
    "X_pca, va, n_comps = run_pca(data, use_hvg=False, n_components=300)\n",
    "data.obsm['X_pca'] = X_pca\n",
    "print(f'Components computed: {n_comps}')"
   ]
  },
  {
   "cell_type": "code",
   "execution_count": 12,
   "metadata": {},
   "outputs": [
    {
     "name": "stdout",
     "output_type": "stream",
     "text": [
      "Calculating MAGIC...\n",
      "  Running MAGIC on 4880 cells and 3870 genes.\n",
      "  Calculating graph and diffusion operator...\n",
      "    Calculating PCA...\n",
      "    Calculated PCA in 18.04 seconds.\n",
      "    Calculating KNN search...\n",
      "    Calculated KNN search in 10.35 seconds.\n",
      "    Calculating affinities...\n",
      "    Calculated affinities in 9.47 seconds.\n",
      "  Calculated graph and diffusion operator in 37.88 seconds.\n",
      "  Calculating imputation...\n",
      "  Calculated imputation in 0.09 seconds.\n",
      "Calculated MAGIC in 38.04 seconds.\n"
     ]
    }
   ],
   "source": [
    "import magic\n",
    "\n",
    "# Apply MAGIC for PCA data denoising\n",
    "magic_op = magic.MAGIC(random_state=random_seed, solver='approximate', n_pca=n_comps)\n",
    "X_magic = magic_op.fit_transform(data.X, genes='pca_only')\n",
    "data.obsm['X_magic_pca'] = X_magic"
   ]
  },
  {
   "cell_type": "code",
   "execution_count": 13,
   "metadata": {},
   "outputs": [
    {
     "name": "stdout",
     "output_type": "stream",
     "text": [
      "Generating initial clusters\n"
     ]
    },
    {
     "name": "stdout",
     "output_type": "stream",
     "text": [
      "Runtime for determine_cell_clusters(): 11.751497268676758\n",
      "Training for episode: 1\n"
     ]
    },
    {
     "name": "stderr",
     "output_type": "stream",
     "text": [
      "100%|██████████| 30/30 [00:51<00:00,  1.71s/it, Avg Loss for epoch:0.1434016354382038] \n",
      "100%|██████████| 4880/4880 [00:00<00:00, 4941.33it/s]\n"
     ]
    },
    {
     "name": "stdout",
     "output_type": "stream",
     "text": [
      "Re-generating clusters for episode: 1\n",
      "Runtime for determine_cell_clusters(): 2.6654257774353027\n",
      "Time Elapsed for epoch: 54.994922161102295s\n",
      "Training for episode: 2\n"
     ]
    },
    {
     "name": "stderr",
     "output_type": "stream",
     "text": [
      "100%|██████████| 30/30 [00:56<00:00,  1.90s/it, Avg Loss for epoch:0.1243603140115738] \n",
      "100%|██████████| 4880/4880 [00:01<00:00, 3862.98it/s]\n"
     ]
    },
    {
     "name": "stdout",
     "output_type": "stream",
     "text": [
      "Re-generating clusters for episode: 2\n",
      "Runtime for determine_cell_clusters(): 3.048495292663574\n",
      "Time Elapsed for epoch: 61.21295619010925s\n",
      "Training for episode: 3\n"
     ]
    },
    {
     "name": "stderr",
     "output_type": "stream",
     "text": [
      "100%|██████████| 30/30 [00:51<00:00,  1.72s/it, Avg Loss for epoch:0.10945340059697628]\n",
      "100%|██████████| 4880/4880 [00:01<00:00, 4452.22it/s]\n"
     ]
    },
    {
     "name": "stdout",
     "output_type": "stream",
     "text": [
      "Re-generating clusters for episode: 3\n",
      "Runtime for determine_cell_clusters(): 2.503906726837158\n",
      "Time Elapsed for epoch: 55.2467577457428s\n",
      "Training for episode: 4\n"
     ]
    },
    {
     "name": "stderr",
     "output_type": "stream",
     "text": [
      "100%|██████████| 30/30 [00:56<00:00,  1.87s/it, Avg Loss for epoch:0.11851958185434341]\n",
      "100%|██████████| 4880/4880 [00:01<00:00, 2801.70it/s]\n"
     ]
    },
    {
     "name": "stdout",
     "output_type": "stream",
     "text": [
      "Re-generating clusters for episode: 4\n",
      "Runtime for determine_cell_clusters(): 3.2017929553985596\n",
      "Time Elapsed for epoch: 61.18763875961304s\n",
      "Training for episode: 5\n"
     ]
    },
    {
     "name": "stderr",
     "output_type": "stream",
     "text": [
      "100%|██████████| 30/30 [00:53<00:00,  1.77s/it, Avg Loss for epoch:0.11346500441431999]\n",
      "100%|██████████| 4880/4880 [00:01<00:00, 4356.47it/s]\n"
     ]
    },
    {
     "name": "stdout",
     "output_type": "stream",
     "text": [
      "Re-generating clusters for episode: 5\n",
      "Runtime for determine_cell_clusters(): 2.695058584213257\n",
      "Time Elapsed for epoch: 57.01771640777588s\n",
      "Runtime for train_metric_learner(): 302.9620020389557\n"
     ]
    }
   ],
   "source": [
    "import warnings\n",
    "from train_metric import train_metric_learner\n",
    "\n",
    "with warnings.catch_warnings():\n",
    "    # Filter out user warnings from PyTorch about saving scheduler state\n",
    "    warnings.simplefilter(\"ignore\")\n",
    "    train_metric_learner(data, n_episodes=5, n_metric_epochs=30, obsm_data_key='X_magic_pca', code_size=10,\n",
    "        backend='leiden', device='cpu', save_path='./metric',\n",
    "        cluster_kwargs={'random_state': 0, 'resolution': 1.0}, nn_kwargs={'random_state': 0, 'n_neighbors': 50},\n",
    "        trainer_kwargs={'optimizer': 'SGD', 'lr': 0.01, 'batch_size': 256}\n",
    "    )"
   ]
  },
  {
   "cell_type": "code",
   "execution_count": 14,
   "metadata": {},
   "outputs": [
    {
     "data": {
      "text/plain": [
       "AxisArrays with keys: X_pca, X_magic_pca, metric_embedding"
      ]
     },
     "execution_count": 14,
     "metadata": {},
     "output_type": "execute_result"
    }
   ],
   "source": [
    "data.obsm"
   ]
  },
  {
   "cell_type": "code",
   "execution_count": 15,
   "metadata": {},
   "outputs": [
    {
     "name": "stdout",
     "output_type": "stream",
     "text": [
      "Calculating MAGIC...\n",
      "  Running MAGIC on 4880 cells and 3870 genes.\n",
      "  Calculating graph and diffusion operator...\n",
      "    Calculating PCA...\n",
      "    Calculated PCA in 8.86 seconds.\n",
      "    Calculating KNN search...\n",
      "    Calculated KNN search in 2.18 seconds.\n",
      "    Calculating affinities...\n",
      "    Calculated affinities in 1.88 seconds.\n",
      "  Calculated graph and diffusion operator in 12.94 seconds.\n",
      "  Calculating imputation...\n",
      "  Calculated imputation in 0.02 seconds.\n",
      "Calculated MAGIC in 13.69 seconds.\n"
     ]
    }
   ],
   "source": [
    "import magic\n",
    "\n",
    "magic_op = magic.MAGIC(random_state=0, solver='approximate')\n",
    "X_magic = magic_op.fit_transform(data.X, genes='all_genes')\n",
    "data.obsm['X_magic'] = X_magic"
   ]
  },
  {
   "cell_type": "code",
   "execution_count": 16,
   "metadata": {},
   "outputs": [],
   "source": [
    "import numpy as np\n",
    "from models.ti.connectivity import compute_directed_cluster_connectivity, compute_undirected_cluster_connectivity\n",
    "from models.ti.graph import compute_trajectory_graph, compute_connectivity_graph\n",
    "from utils.plot import plot_connectivity_graph, plot_trajectory_graph\n",
    "from utils.util import get_start_cell_cluster_id"
   ]
  },
  {
   "cell_type": "code",
   "execution_count": 17,
   "metadata": {},
   "outputs": [],
   "source": [
    "start_cell_ids = 1"
   ]
  },
  {
   "cell_type": "code",
   "execution_count": 18,
   "metadata": {},
   "outputs": [],
   "source": [
    "%%R -o start_cell_ids\n",
    "start_cell_ids = dataset$prior_information$start_id"
   ]
  },
  {
   "cell_type": "code",
   "execution_count": 19,
   "metadata": {},
   "outputs": [
    {
     "data": {
      "text/plain": [
       "['C1599']"
      ]
     },
     "execution_count": 19,
     "metadata": {},
     "output_type": "execute_result"
    }
   ],
   "source": [
    "start_cell_ids = list(start_cell_ids)\n",
    "start_cell_ids"
   ]
  },
  {
   "cell_type": "code",
   "execution_count": 20,
   "metadata": {},
   "outputs": [
    {
     "data": {
      "text/plain": [
       "{12}"
      ]
     },
     "execution_count": 20,
     "metadata": {},
     "output_type": "execute_result"
    }
   ],
   "source": [
    "communities = data.obs['metric_clusters'].astype(int)\n",
    "adj_conn = data.obsp['connectivities']\n",
    "adj_dist = data.obsp['distances']\n",
    "# start_cell_ids = data.obs['palantir_pseudotime'].idxmin()\n",
    "# start_cell_ids = [start_cell_ids] if isinstance(start_cell_ids, str) else list(start_cell_ids)\n",
    "start_cluster_ids = get_start_cell_cluster_id(data, start_cell_ids, communities)\n",
    "start_cluster_ids"
   ]
  },
  {
   "cell_type": "code",
   "execution_count": 21,
   "metadata": {},
   "outputs": [],
   "source": [
    "# un_connectivity, un_z_score = compute_undirected_cluster_connectivity(communities, adj_conn, z_threshold=2.5)"
   ]
  },
  {
   "cell_type": "code",
   "execution_count": 22,
   "metadata": {},
   "outputs": [],
   "source": [
    "import matplotlib as mp\n",
    "import networkx as nx\n",
    "\n",
    "\n",
    "def plot_connectivity_graph_with_gene_expressions(\n",
    "    ad,\n",
    "    cluster_connectivities,\n",
    "    gene,\n",
    "    embedding_key=\"X_met_embedding\",\n",
    "    comm_key=\"metric_clusters\",\n",
    "    magic_key=\"X_magic\",\n",
    "    mode=\"undirected\",\n",
    "    cmap=\"YlGn\",\n",
    "    figsize=(16, 12),\n",
    "    node_size=400,\n",
    "    font_color=\"black\",\n",
    "    title=None,\n",
    "    save_path=None,\n",
    "    save_kwargs={},\n",
    "    offset=0,\n",
    "    **kwargs,\n",
    "):\n",
    "    try:\n",
    "        X_embedded = ad.obsm[embedding_key]\n",
    "    except KeyError:\n",
    "        raise Exception(f\"Key {embedding_key} not found in {ad}\")\n",
    "\n",
    "    try:\n",
    "        communities = ad.obs[comm_key]\n",
    "    except KeyError:\n",
    "        raise Exception(f\"Key {comm_key} not found in {ad}\")\n",
    "\n",
    "    try:\n",
    "        X_imputed = pd.DataFrame(\n",
    "            ad.obsm[magic_key], index=ad.obs_names, columns=ad.var_names\n",
    "        )\n",
    "    except KeyError:\n",
    "        print(\"MAGIC imputed data not found. Using raw counts instead\")\n",
    "        X_imputed = ad.to_df()\n",
    "\n",
    "    if gene not in ad.var_names:\n",
    "        raise ValueError(f\"Gene: {gene} was not found.\")\n",
    "\n",
    "    g, node_positions = compute_connectivity_graph(\n",
    "        X_embedded, communities, cluster_connectivities, mode=mode\n",
    "    )\n",
    "\n",
    "    # Normalize and compute cluster wise mean expression of the gene\n",
    "    X_gene = X_imputed[gene]\n",
    "    X_gene = (X_gene - X_gene.min()) / (X_gene.max() - X_gene.min())\n",
    "    gene_exprs = []\n",
    "    for cluster_id in np.unique(communities):\n",
    "        ids = communities == cluster_id\n",
    "        mean_gene_expr = X_gene.loc[ids].mean()\n",
    "        gene_exprs.append(mean_gene_expr)\n",
    "\n",
    "    # Draw the graph\n",
    "    plt.figure(figsize=figsize)\n",
    "    if title is not None:\n",
    "        plt.title(title)\n",
    "    plt.axis(\"off\")\n",
    "    edge_weights = [offset + w for _, _, w in g.edges.data(\"weight\")]\n",
    "    nx.draw_networkx(\n",
    "        g,\n",
    "        pos=node_positions,\n",
    "        cmap=cmap,\n",
    "        node_color=gene_exprs,\n",
    "        font_color=font_color,\n",
    "        node_size=node_size,\n",
    "        width=edge_weights,\n",
    "        **kwargs,\n",
    "    )\n",
    "    # Setup color bar\n",
    "    vmin = np.min(gene_exprs)\n",
    "    vmax = np.max(gene_exprs)\n",
    "    normalize = mp.colors.Normalize(vmin=vmin, vmax=vmax)\n",
    "    cax, _ = mp.colorbar.make_axes(plt.gca(), aspect=20, shrink=0.6, anchor=(-0.3, 0.5))\n",
    "    mp.colorbar.ColorbarBase(cax, norm=normalize, cmap=plt.get_cmap(cmap))\n",
    "\n",
    "    if save_path is not None:\n",
    "        plt.savefig(save_path, **save_kwargs)\n",
    "    plt.show()"
   ]
  },
  {
   "cell_type": "code",
   "execution_count": 23,
   "metadata": {},
   "outputs": [],
   "source": [
    "# from utils.plot import plot_connectivity_graph_with_gene_expressions\n",
    "\n",
    "# plot_connectivity_graph_with_gene_expressions(\n",
    "#     data,\n",
    "#     un_connectivity,\n",
    "#     'THBD',\n",
    "#     font_color='white',\n",
    "#     cmap='viridis',\n",
    "#     offset=0.2,\n",
    "#     node_size=750,\n",
    "#     font_size=12,\n",
    "#     comm_key='metric_clusters',\n",
    "#     save_path='/content/connectivity_CSF1R.png',\n",
    "#     save_kwargs={\n",
    "#         'dpi': 300,\n",
    "#         'bbox_inches': 'tight',\n",
    "#         'transparent': True\n",
    "#     }\n",
    "# )"
   ]
  },
  {
   "cell_type": "code",
   "execution_count": 24,
   "metadata": {},
   "outputs": [],
   "source": [
    "# if 'metric_clustering_scores' in data.uns:\n",
    "#     # Convert each element in the list to string\n",
    "#     data.uns['metric_clustering_scores'] = [\n",
    "#         str(x) for x in data.uns['metric_clustering_scores']\n",
    "#     ]\n"
   ]
  },
  {
   "cell_type": "code",
   "execution_count": 25,
   "metadata": {},
   "outputs": [],
   "source": [
    "# def sanitize_uns(data):\n",
    "#     for key in list(data.uns.keys()):\n",
    "#         # Handle lists\n",
    "#         if isinstance(data.uns[key], list):\n",
    "#             data.uns[key] = [str(x) for x in data.uns[key]]\n",
    "#         # Handle DataFrames\n",
    "#         elif isinstance(data.uns[key], pd.DataFrame):\n",
    "#             data.uns[key] = data.uns[key].astype(str)\n",
    "#     return data\n",
    "\n",
    "# data = sanitize_uns(data)\n"
   ]
  },
  {
   "cell_type": "code",
   "execution_count": 26,
   "metadata": {},
   "outputs": [],
   "source": [
    "# # Convert categorical columns to strings\n",
    "# for col in data.obs.select_dtypes(['category', 'object']):\n",
    "#     data.obs[col] = data.obs[col].astype(str).fillna('')\n"
   ]
  },
  {
   "cell_type": "code",
   "execution_count": 27,
   "metadata": {},
   "outputs": [],
   "source": [
    "# data.write(\"tree_6_processed.h5ad\")"
   ]
  },
  {
   "cell_type": "code",
   "execution_count": 28,
   "metadata": {},
   "outputs": [],
   "source": [
    "# sc.read(\"tree_6_processed.h5ad\")"
   ]
  },
  {
   "cell_type": "code",
   "execution_count": 29,
   "metadata": {},
   "outputs": [],
   "source": [
    "import networkx as nx\n",
    "\n",
    "from sklearn.neighbors import NearestNeighbors\n",
    "from models.ti.pseudotime import compute_pseudotime\n",
    "from models.ti.pseudotime_v2 import compute_pseudotime\n",
    "from models.ti.graph import compute_trajectory_graph_v2\n",
    "from utils.plot import plot_trajectory_graph_v2\n",
    "from utils.plot import plot_pseudotime"
   ]
  },
  {
   "cell_type": "code",
   "execution_count": 30,
   "metadata": {},
   "outputs": [],
   "source": [
    "X = data.obsm['metric_embedding']\n",
    "\n",
    "n_neighbors = 30\n",
    "nbrs = NearestNeighbors(n_neighbors=n_neighbors, metric=\"euclidean\").fit(X)\n",
    "adj_dist = nbrs.kneighbors_graph(X, mode=\"distance\")\n",
    "adj_conn = nbrs.kneighbors_graph(X)"
   ]
  },
  {
   "cell_type": "code",
   "execution_count": 31,
   "metadata": {},
   "outputs": [],
   "source": [
    "data.obsm[\"X_met_embedding\"] = data.obsm[\"metric_embedding\"]"
   ]
  },
  {
   "cell_type": "code",
   "execution_count": 32,
   "metadata": {},
   "outputs": [],
   "source": [
    "un_connectivity = pd.read_csv(\"un_connectivity.csv\", index_col=0)"
   ]
  },
  {
   "cell_type": "code",
   "execution_count": 33,
   "metadata": {},
   "outputs": [],
   "source": [
    "un_connectivity.index = un_connectivity.index.astype(int)\n",
    "un_connectivity.columns = un_connectivity.columns.astype(int)\n"
   ]
  },
  {
   "cell_type": "code",
   "execution_count": 34,
   "metadata": {},
   "outputs": [],
   "source": [
    "# Convert pandas/categorical types to numpy.int64\n",
    "data.obs['metric_clusters'] = data.obs['metric_clusters'].astype(int)\n",
    "communities = data.obs['metric_clusters'].astype(int)\n"
   ]
  },
  {
   "cell_type": "code",
   "execution_count": 41,
   "metadata": {},
   "outputs": [
    {
     "name": "stdout",
     "output_type": "stream",
     "text": [
      "Runtime for compute_connectivity_graph(): 0.008493423461914062\n",
      "Runtime for compute_pseudotime(): 4.096233129501343\n"
     ]
    }
   ],
   "source": [
    "# v2 pseudotime\n",
    "G_undirected, node_positions = compute_connectivity_graph(data.obsm['X_met_embedding'], data.obs['metric_clusters'], un_connectivity)\n",
    "adj_cluster = nx.to_pandas_adjacency(G_undirected)\n",
    "pseudotime = compute_pseudotime(data, start_cell_ids, adj_dist, adj_cluster)"
   ]
  },
  {
   "cell_type": "code",
   "execution_count": 51,
   "metadata": {},
   "outputs": [
    {
     "data": {
      "text/plain": [
       "C1       True\n",
       "C2       True\n",
       "C3       True\n",
       "C4       True\n",
       "C5       True\n",
       "         ... \n",
       "C4973    True\n",
       "C4974    True\n",
       "C4975    True\n",
       "C4976    True\n",
       "C4977    True\n",
       "Length: 4880, dtype: bool"
      ]
     },
     "execution_count": 51,
     "metadata": {},
     "output_type": "execute_result"
    }
   ],
   "source": [
    "pseudotime==0"
   ]
  },
  {
   "cell_type": "code",
   "execution_count": 37,
   "metadata": {},
   "outputs": [
    {
     "name": "stderr",
     "output_type": "stream",
     "text": [
      "/home/satwik/margaret-env/lib/python3.12/site-packages/umap/umap_.py:1952: UserWarning: n_jobs value 1 overridden to 1 by setting random_state. Use no seed for parallelism.\n",
      "  warn(\n"
     ]
    }
   ],
   "source": [
    "from umap import UMAP\n",
    "\n",
    "# Reduce 10D embeddings to 2D\n",
    "reducer = UMAP(n_components=2, random_state=42)\n",
    "embeddings_2d = reducer.fit_transform(data.obsm['metric_embedding'])\n"
   ]
  },
  {
   "cell_type": "code",
   "execution_count": 38,
   "metadata": {},
   "outputs": [],
   "source": [
    "data.obsm[\"X_met_embedding\"] = embeddings_2d"
   ]
  },
  {
   "cell_type": "code",
   "execution_count": 43,
   "metadata": {},
   "outputs": [
    {
     "data": {
      "image/png": "[encoded data removed]",
      "text/plain": [
       "<Figure size 800x800 with 2 Axes>"
      ]
     },
     "metadata": {},
     "output_type": "display_data"
    }
   ],
   "source": [
    "plot_pseudotime(\n",
    "    data,\n",
    "    embedding_key=\"X_met_embedding\",\n",
    "    pseudotime_key=\"metric_pseudotime_v2\",\n",
    "    s=1,\n",
    "    cmap='plasma',\n",
    "    figsize=(8, 8),\n",
    "    cb_axes_pos=[0.92, 0.55, 0.02, 0.3]\n",
    ")"
   ]
  },
  {
   "cell_type": "code",
   "execution_count": null,
   "metadata": {},
   "outputs": [],
   "source": []
  }
 ],
 "metadata": {
  "kernelspec": {
   "display_name": "Python (margaret-env)",
   "language": "python",
   "name": "margaret-env"
  },
  "language_info": {
   "codemirror_mode": {
    "name": "ipython",
    "version": 3
   },
   "file_extension": ".py",
   "mimetype": "text/x-python",
   "name": "python",
   "nbconvert_exporter": "python",
   "pygments_lexer": "ipython3",
   "version": "3.12.3"
  }
 },
 "nbformat": 4,
 "nbformat_minor": 4
}
