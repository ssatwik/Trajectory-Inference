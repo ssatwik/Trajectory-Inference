{
 "cells": [
  {
   "cell_type": "markdown",
   "metadata": {},
   "source": [
    "# Imports"
   ]
  },
  {
   "cell_type": "code",
   "execution_count": 1,
   "metadata": {},
   "outputs": [],
   "source": [
    "import pandas as pd\n",
    "import os\n",
    "import matplotlib\n",
    "import matplotlib.pyplot as plt\n",
    "import numpy as np\n",
    "%matplotlib inline"
   ]
  },
  {
   "cell_type": "code",
   "execution_count": 2,
   "metadata": {},
   "outputs": [
    {
     "name": "stderr",
     "output_type": "stream",
     "text": [
      "/tmp/ipykernel_85450/2174054843.py:8: DeprecationWarning: The global conversion available with activate() is deprecated and will be removed in the next major release. Use a local converter.\n",
      "  anndata2ri.activate()\n"
     ]
    }
   ],
   "source": [
    "import anndata2ri\n",
    "import logging\n",
    "import rpy2.rinterface_lib.callbacks as rcb\n",
    "import rpy2.robjects as ro\n",
    "\n",
    "rcb.logger.setLevel(logging.ERROR)\n",
    "ro.pandas2ri.activate()\n",
    "anndata2ri.activate()\n",
    "\n",
    "%load_ext rpy2.ipython"
   ]
  },
  {
   "cell_type": "code",
   "execution_count": 3,
   "metadata": {},
   "outputs": [
    {
     "name": "stdout",
     "output_type": "stream",
     "text": [
      "── Attaching core tidyverse packages ──────────────────────── tidyverse 2.0.0 ──\n",
      "✔ dplyr     1.1.4     ✔ readr     2.1.5\n",
      "✔ forcats   1.0.0     ✔ stringr   1.5.1\n",
      "✔ ggplot2   3.5.1     ✔ tibble    3.2.1\n",
      "✔ lubridate 1.9.4     ✔ tidyr     1.3.1\n",
      "✔ purrr     1.0.4     \n",
      "── Conflicts ────────────────────────────────────────── tidyverse_conflicts() ──\n",
      "✖ dplyr::filter() masks stats::filter()\n",
      "✖ dplyr::lag()    masks stats::lag()\n",
      "ℹ Use the conflicted package (<http://conflicted.r-lib.org/>) to force all conflicts to become errors\n"
     ]
    },
    {
     "data": {
      "text/plain": [
       "Loading required package: dynfeature\n",
       "Loading required package: dynguidelines\n",
       "Loading required package: dynmethods\n",
       "Loading required package: dynplot\n",
       "Loading required package: dynwrap\n",
       "In addition: Warning message:\n",
       "In (function (package, help, pos = 2, lib.loc = NULL, character.only = FALSE,  :\n",
       "  library ‘/usr/lib/R/site-library’ contains no packages\n"
      ]
     },
     "metadata": {},
     "output_type": "display_data"
    }
   ],
   "source": [
    "%%R\n",
    "library(tidyverse)\n",
    "library(dyno)"
   ]
  },
  {
   "cell_type": "markdown",
   "metadata": {},
   "source": [
    "# Loading Data"
   ]
  },
  {
   "cell_type": "code",
   "execution_count": 4,
   "metadata": {},
   "outputs": [],
   "source": [
    "%%R\n",
    "data <- readRDS(\"multifurcating_1.rds\")"
   ]
  },
  {
   "cell_type": "code",
   "execution_count": 5,
   "metadata": {},
   "outputs": [
    {
     "name": "stdout",
     "output_type": "stream",
     "text": [
      "[1] \"dynwrap::with_prior\"          \"dynwrap::with_cell_waypoints\"\n",
      "[3] \"dynwrap::with_prior\"          \"dynwrap::with_trajectory\"    \n",
      "[5] \"dynwrap::with_expression\"     \"dynwrap::data_wrapper\"       \n",
      "[7] \"list\"                        \n"
     ]
    }
   ],
   "source": [
    "%%R\n",
    "class(data)"
   ]
  },
  {
   "cell_type": "code",
   "execution_count": 5,
   "metadata": {},
   "outputs": [
    {
     "name": "stdout",
     "output_type": "stream",
     "text": [
      "List of 17\n",
      " $ id                   : chr \"synthetic/splatter/multifurcating_1\"\n",
      " $ cell_ids             : chr [1:920] \"Cell1\" \"Cell2\" \"Cell3\" \"Cell4\" ...\n",
      " $ cell_info            : NULL\n",
      " $ counts               : num [1:920, 1:1254] 48 0 0 18 31 38 11 31 19 17 ...\n",
      "  ..- attr(*, \"dimnames\")=List of 2\n",
      "  .. ..$ : chr [1:920] \"Cell1\" \"Cell2\" \"Cell3\" \"Cell4\" ...\n",
      "  .. ..$ : chr [1:1254] \"Gene4247\" \"Gene4771\" \"Gene2697\" \"Gene3227\" ...\n",
      " $ expression           : num [1:920, 1:1254] 5.25 0 0 4.26 4.36 ...\n",
      "  ..- attr(*, \"dimnames\")=List of 2\n",
      "  .. ..$ : chr [1:920] \"Cell1\" \"Cell2\" \"Cell3\" \"Cell4\" ...\n",
      "  .. ..$ : chr [1:1254] \"Gene4247\" \"Gene4771\" \"Gene2697\" \"Gene3227\" ...\n",
      " $ feature_info         : tibble [1,254 × 1] (S3: tbl_df/tbl/data.frame)\n",
      "  ..$ feature_id: chr [1:1254] \"Gene4247\" \"Gene4771\" \"Gene2697\" \"Gene3227\" ...\n",
      " $ milestone_ids        : chr [1:9] \"M1\" \"M3\" \"M6\" \"M8\" ...\n",
      " $ milestone_network    : tibble [8 × 4] (S3: tbl_df/tbl/data.frame)\n",
      "  ..$ from    : chr [1:8] \"M1\" \"M3\" \"M6\" \"M3\" ...\n",
      "  ..$ to      : chr [1:8] \"M3\" \"M2\" \"M7\" \"M6\" ...\n",
      "  ..$ length  : num [1:8] 0.349 0.407 0.883 0.216 0.445 ...\n",
      "  ..$ directed: logi [1:8] TRUE TRUE TRUE TRUE TRUE TRUE ...\n",
      " $ divergence_regions   : tibble [0 × 3] (S3: tbl_df/tbl/data.frame)\n",
      "  ..$ divergence_id: chr(0) \n",
      "  ..$ milestone_id : chr(0) \n",
      "  ..$ is_start     : logi(0) \n",
      " $ milestone_percentages: tibble [1,840 × 3] (S3: tbl_df/tbl/data.frame)\n",
      "  ..$ cell_id     : chr [1:1840] \"Cell1\" \"Cell10\" \"Cell100\" \"Cell101\" ...\n",
      "  ..$ milestone_id: chr [1:1840] \"M8\" \"M3\" \"M8\" \"M6\" ...\n",
      "  ..$ percentage  : num [1:1840] 0.4247 0.0909 0.5738 0.1685 0.0909 ...\n",
      " $ progressions         : tibble [920 × 4] (S3: tbl_df/tbl/data.frame)\n",
      "  ..$ cell_id   : chr [1:920] \"Cell1\" \"Cell2\" \"Cell3\" \"Cell4\" ...\n",
      "  ..$ from      : chr [1:920] \"M8\" \"M6\" \"M6\" \"M3\" ...\n",
      "  ..$ to        : chr [1:920] \"M9\" \"M7\" \"M7\" \"M6\" ...\n",
      "  ..$ percentage: num [1:920] 0.575 0.281 0.236 0.273 0.41 ...\n",
      " $ trajectory_type      : chr \"tree\"\n",
      " $ prior_information    :List of 12\n",
      "  ..$ start_milestones     : chr \"M1\"\n",
      "  ..$ start_id             : chr \"Cell726\"\n",
      "  ..$ end_milestones       : chr [1:5] \"M2\" \"M7\" \"M5\" \"M9\" ...\n",
      "  ..$ end_id               : chr [1:5] \"Cell117\" \"Cell687\" \"Cell739\" \"Cell302\" ...\n",
      "  ..$ groups_id            : tibble [920 × 2] (S3: tbl_df/tbl/data.frame)\n",
      "  .. ..$ cell_id : chr [1:920] \"Cell1\" \"Cell10\" \"Cell100\" \"Cell101\" ...\n",
      "  .. ..$ group_id: chr [1:920] \"M9\" \"M6\" \"M8\" \"M7\" ...\n",
      "  ..$ groups_network       : tibble [8 × 2] (S3: tbl_df/tbl/data.frame)\n",
      "  .. ..$ from: chr [1:8] \"M1\" \"M3\" \"M6\" \"M3\" ...\n",
      "  .. ..$ to  : chr [1:8] \"M3\" \"M2\" \"M7\" \"M6\" ...\n",
      "  ..$ features_id          : chr [1:877] \"Gene6812\" \"Gene4424\" \"Gene3456\" \"Gene1877\" ...\n",
      "  ..$ groups_n             : int 8\n",
      "  ..$ timecourse_continuous: Named num [1:920] 1.026 0.546 0.866 1.3 0.546 ...\n",
      "  .. ..- attr(*, \"names\")= chr [1:920] \"Cell1\" \"Cell10\" \"Cell100\" \"Cell101\" ...\n",
      "  ..$ timecourse_discrete  : int [1:920] 8 4 7 10 4 7 6 5 5 7 ...\n",
      "  ..$ start_n              : int 1\n",
      "  ..$ end_n                : int 5\n",
      " $ simulation_design    :List of 10\n",
      "  ..$ simulator         : chr \"splatter\"\n",
      "  ..$ simulator_version :'data.frame':\t4 obs. of  5 variables:\n",
      "  .. ..$ package: chr [1:4] \"dynbenchmark\" \"dynnormaliser\" \"dyntoy\" \"splatter\"\n",
      "  .. ..$ *      : chr [1:4] \"\" \"\" \"\" \"\"\n",
      "  .. ..$ version: chr [1:4] \"0.0.0.9000\" \"0.1.0\" \"0.1.0\" \"1.4.1\"\n",
      "  .. ..$ date   : chr [1:4] \"2018-07-31\" \"2018-07-30\" \"2018-07-30\" \"2018-07-31\"\n",
      "  .. ..$ source : chr [1:4] \"Github (dynverse/dynbenchmark@3f04cba)\" \"Github (dynverse/dynnormaliser@a3cd920)\" \"Github (dynverse/dyntoy@2722977)\" \"Bioconductor\"\n",
      "  ..$ topology_model    : chr \"multifurcating\"\n",
      "  ..$ platform          :List of 5\n",
      "  .. ..$ estimate                     :Formal class 'TheMuscularDogBlinkedQuietly.' [package \"\"] with 0 slots\n",
      " Named list()\n",
      "  .. .. .. ..$ nBatches          : int 1\n",
      "  .. .. .. ..$ batchCells        : int 500\n",
      "  .. .. .. ..$ batch.facLoc      : num 0.1\n",
      "  .. .. .. ..$ batch.facScale    : num 0.1\n",
      "  .. .. .. ..$ mean.rate         : num 0.0178\n",
      "  .. .. .. ..$ mean.shape        : num 1.11\n",
      "  .. .. .. ..$ lib.loc           : num 14\n",
      "  .. .. .. ..$ lib.scale         : num 0.189\n",
      "  .. .. .. ..$ lib.norm          : logi FALSE\n",
      "  .. .. .. ..$ out.prob          : num 0.0474\n",
      "  .. .. .. ..$ out.facLoc        : num 3.25\n",
      "  .. .. .. ..$ out.facScale      : num 0.852\n",
      "  .. .. .. ..$ nGroups           : num 1\n",
      "  .. .. .. ..$ group.prob        : num 1\n",
      "  .. .. .. ..$ de.prob           : num 0.1\n",
      "  .. .. .. ..$ de.downProb       : num 0.5\n",
      "  .. .. .. ..$ de.facLoc         : num 0.1\n",
      "  .. .. .. ..$ de.facScale       : num 0.4\n",
      "  .. .. .. ..$ bcv.common        : num 2.66\n",
      "  .. .. .. ..$ bcv.df            : num 8.49\n",
      "  .. .. .. ..$ dropout.type      : chr \"none\"\n",
      "  .. .. .. ..$ dropout.mid       : num 4.32\n",
      "  .. .. .. ..$ dropout.shape     : num -0.716\n",
      "  .. .. .. ..$ path.from         : num 0\n",
      "  .. .. .. ..$ path.length       : num 100\n",
      "  .. .. .. ..$ path.skew         : num 0.5\n",
      "  .. .. .. ..$ path.nonlinearProb: num 0.1\n",
      "  .. .. .. ..$ path.sigmaFac     : num 0.8\n",
      "  .. .. .. ..$ nGenes            : int 8357\n",
      "  .. .. .. ..$ nCells            : int 500\n",
      "  .. .. .. ..$ seed              : int 495722\n",
      "  .. ..$ trajectory_dependent_features: num 0.135\n",
      "  .. ..$ n_cells                      : int 930\n",
      "  .. ..$ n_features                   : int 8357\n",
      "  .. ..$ platform_id                  : chr \"real/aging-hsc-old_kowalczyk\"\n",
      "  ..$ path.skew         : num 0.821\n",
      "  ..$ path.nonlinearProb: num 0.24\n",
      "  ..$ path.sigmaFac     : num 0.683\n",
      "  ..$ bcv.common.factor : num 145\n",
      "  ..$ dataset_id        : chr \"synthetic/splatter/multifurcating_1\"\n",
      "  ..$ seed              : int 30636\n",
      " $ source               : chr \"synthetic/splatter\"\n",
      " $ waypoint_cells       : chr [1:106] \"Cell726\" \"Cell691\" \"Cell15\" \"Cell54\" ...\n",
      " $ directed             : logi TRUE\n",
      " - attr(*, \"class\")= chr [1:7] \"dynwrap::with_prior\" \"dynwrap::with_cell_waypoints\" \"dynwrap::with_prior\" \"dynwrap::with_trajectory\" ...\n"
     ]
    }
   ],
   "source": [
    "%%R\n",
    "str(data)"
   ]
  },
  {
   "cell_type": "code",
   "execution_count": 6,
   "metadata": {},
   "outputs": [],
   "source": [
    "%%R\n",
    "start_cell = data$prior_information$start_id"
   ]
  },
  {
   "cell_type": "code",
   "execution_count": 7,
   "metadata": {},
   "outputs": [],
   "source": [
    "%%R\n",
    "counts <- data$counts\n",
    "expression <- data$expression"
   ]
  },
  {
   "cell_type": "code",
   "execution_count": 8,
   "metadata": {},
   "outputs": [],
   "source": [
    "%%R\n",
    "dataset <- wrap_expression(\n",
    "  expression = expression,\n",
    "  counts = counts\n",
    ")"
   ]
  },
  {
   "cell_type": "code",
   "execution_count": 9,
   "metadata": {},
   "outputs": [
    {
     "name": "stdout",
     "output_type": "stream",
     "text": [
      "# A tibble: 920 × 2\n",
      "   cell_id group_id\n",
      "   <chr>   <chr>   \n",
      " 1 Cell1   M9      \n",
      " 2 Cell10  M6      \n",
      " 3 Cell100 M8      \n",
      " 4 Cell101 M7      \n",
      " 5 Cell102 M6      \n",
      " 6 Cell103 M5      \n",
      " 7 Cell104 M6      \n",
      " 8 Cell105 M6      \n",
      " 9 Cell106 M8      \n",
      "10 Cell107 M5      \n",
      "# ℹ 910 more rows\n",
      "# ℹ Use `print(n = ...)` to see more rows\n"
     ]
    }
   ],
   "source": [
    "%%R\n",
    "grouping <- (data$prior_information$groups_id)\n",
    "grouping"
   ]
  },
  {
   "cell_type": "code",
   "execution_count": 10,
   "metadata": {},
   "outputs": [],
   "source": [
    "%%R\n",
    "dataset <- add_prior_information(\n",
    "    dataset,\n",
    "    start_id = data$prior_information$start_id,\n",
    "    end_id = data$prior_information$end_id,\n",
    "    groups_id = data$prior_information$groups_id,\n",
    "    end_n = data$prior_information$end_n,\n",
    ")\n",
    "dataset <- add_grouping(\n",
    "    dataset,\n",
    "    data$grouping\n",
    ")"
   ]
  },
  {
   "cell_type": "code",
   "execution_count": 11,
   "metadata": {},
   "outputs": [
    {
     "data": {
      "text/plain": [
       "Loading required namespace: uwot\n"
      ]
     },
     "metadata": {},
     "output_type": "display_data"
    }
   ],
   "source": [
    "%%R\n",
    "umap_dimred <- dyndimred::dimred_umap(dataset$expression)"
   ]
  },
  {
   "cell_type": "code",
   "execution_count": 12,
   "metadata": {},
   "outputs": [],
   "source": [
    "%%R\n",
    "library(dyndimred)\n",
    "pca_dimred <- dimred_pca(\n",
    "  dataset$expression\n",
    ")"
   ]
  },
  {
   "cell_type": "markdown",
   "metadata": {},
   "source": [
    "# DPT Model"
   ]
  },
  {
   "cell_type": "code",
   "execution_count": 13,
   "metadata": {},
   "outputs": [
    {
     "name": "stdout",
     "output_type": "stream",
     "text": [
      " \\|\r"
     ]
    }
   ],
   "source": [
    "%%R\n",
    "dpt_model <- infer_trajectory(dataset, ti_dpt(), give_priors = c(\"start_id\"))"
   ]
  },
  {
   "cell_type": "code",
   "execution_count": 172,
   "metadata": {},
   "outputs": [
    {
     "name": "stdout",
     "output_type": "stream",
     "text": [
      " [1] \"id\"                          \"cell_ids\"                   \n",
      " [3] \"cell_info\"                   \"group_ids\"                  \n",
      " [5] \"grouping\"                    \"milestone_ids\"              \n",
      " [7] \"milestone_network\"           \"divergence_regions\"         \n",
      " [9] \"milestone_percentages\"       \"progressions\"               \n",
      "[11] \"trajectory_type\"             \"directed\"                   \n",
      "[13] \"dimred\"                      \"dimred_projected\"           \n",
      "[15] \"dimred_milestones\"           \"dimred_segment_progressions\"\n",
      "[17] \"dimred_segment_points\"      \n"
     ]
    }
   ],
   "source": [
    "%%R\n",
    "names(dpt_model)"
   ]
  },
  {
   "cell_type": "code",
   "execution_count": 14,
   "metadata": {},
   "outputs": [],
   "source": [
    "%%R\n",
    "dpt_model <- add_dimred(\n",
    "  dpt_model,\n",
    "  dimred = pca_dimred,\n",
    "  project_trajectory = FALSE,\n",
    "  connect_segments = FALSE\n",
    ")"
   ]
  },
  {
   "cell_type": "code",
   "execution_count": 15,
   "metadata": {},
   "outputs": [],
   "source": [
    "%%R\n",
    "traj <- project_trajectory(dpt_model, pca_dimred)"
   ]
  },
  {
   "cell_type": "code",
   "execution_count": 16,
   "metadata": {},
   "outputs": [
    {
     "name": "stdout",
     "output_type": "stream",
     "text": [
      "[1] \"dimred_segment_points\"       \"dimred_segment_progressions\"\n",
      "[3] \"dimred_milestones\"          \n"
     ]
    }
   ],
   "source": [
    "%%R\n",
    "names(traj)"
   ]
  },
  {
   "cell_type": "code",
   "execution_count": 17,
   "metadata": {},
   "outputs": [
    {
     "name": "stdout",
     "output_type": "stream",
     "text": [
      "                             comp_1   comp_2\n",
      "MILESTONE_BEGIN_WTip0_Tip1 1.159118 4.031978\n",
      "W2                         1.152318 4.069384\n",
      "W3                         1.145582 4.105567\n",
      "W4                         1.138919 4.140567\n",
      "W5                         1.132337 4.174426\n",
      "W6                         1.125842 4.207182\n"
     ]
    }
   ],
   "source": [
    "%%R\n",
    "head(traj$dimred_segment_points)"
   ]
  },
  {
   "cell_type": "code",
   "execution_count": 18,
   "metadata": {},
   "outputs": [
    {
     "data": {
      "image/png": "[encoded data removed]",
      "text/plain": [
       "<IPython.core.display.Image object>"
      ]
     },
     "metadata": {},
     "output_type": "display_data"
    }
   ],
   "source": [
    "%%R\n",
    "library(ggplot2)\n",
    "\n",
    "# Convert pca_dimred to a data frame\n",
    "pca_df <- as.data.frame(pca_dimred)\n",
    "colnames(pca_df) <- c(\"PC1\", \"PC2\")\n",
    "\n",
    "# Convert traj$dimred_segment_points to a data frame\n",
    "segment_points_df <- as.data.frame(traj$dimred_segment_points)\n",
    "colnames(segment_points_df) <- c(\"PC1\", \"PC2\")\n",
    "\n",
    "# Add a column to indicate if the point name contains \"Tip\"\n",
    "segment_points_df$Tip <- grepl(\"Tip\", rownames(segment_points_df))\n",
    "\n",
    "# Plot\n",
    "ggplot() +\n",
    "    geom_point(data = pca_df, aes(x = PC1, y = PC2), color = \"grey\") +\n",
    "    geom_point(data = segment_points_df, aes(x = PC1, y = PC2, color = Tip)) +\n",
    "    scale_color_manual(values = c(\"black\", \"red\")) +\n",
    "    theme_minimal() +\n",
    "    labs(title = \"Trajectory Segment Points on PCA\",\n",
    "             x = \"PC1\",\n",
    "             y = \"PC2\",\n",
    "             color = \"Tip\")"
   ]
  },
  {
   "cell_type": "code",
   "execution_count": 19,
   "metadata": {},
   "outputs": [
    {
     "data": {
      "image/png": "[encoded data removed]",
      "text/plain": [
       "<IPython.core.display.Image object>"
      ]
     },
     "metadata": {},
     "output_type": "display_data"
    }
   ],
   "source": [
    "%%R\n",
    "library(dplyr)\n",
    "library(ggplot2)\n",
    "\n",
    "# Check if grouping is defined\n",
    "if (is.null(grouping)) {\n",
    "  stop(\"The variable 'grouping' is not defined or is empty.\")\n",
    "}\n",
    "\n",
    "# Convert grouping to a data frame\n",
    "grouping_df <- as.data.frame(grouping)\n",
    "colnames(grouping_df) <- c(\"Cell\", \"Group\")\n",
    "\n",
    "# Convert pca_dimred to a data frame\n",
    "pca_df <- as.data.frame(pca_dimred)\n",
    "colnames(pca_df) <- c(\"PC1\", \"PC2\")\n",
    "pca_df$Cell <- rownames(pca_df)\n",
    "\n",
    "# Merge pca_df with grouping_df\n",
    "merged_df <- merge(pca_df, grouping_df, by = \"Cell\")\n",
    "\n",
    "# Calculate centroids for each group\n",
    "centroids <- merged_df %>%\n",
    "  group_by(Group) %>%\n",
    "  summarize(PC1 = mean(PC1), PC2 = mean(PC2))\n",
    "\n",
    "# Plot using ggplot2\n",
    "ggplot(merged_df, aes(x = PC1, y = PC2, color = Group)) +\n",
    "  geom_point(alpha = 0.5) +\n",
    "  geom_point(data = centroids, aes(x = PC1, y = PC2, color = Group), size = 5, shape = 4, stroke = 2) +\n",
    "  theme_minimal() +\n",
    "  labs(title = \"Groupings of Cells on PCA with Centroids\",\n",
    "       x = \"PC1\",\n",
    "       y = \"PC2\",\n",
    "       color = \"Group\")"
   ]
  },
  {
   "cell_type": "code",
   "execution_count": 20,
   "metadata": {},
   "outputs": [
    {
     "name": "stdout",
     "output_type": "stream",
     "text": [
      "# A tibble: 9 × 3\n",
      "  Group   PC1    PC2\n",
      "  <chr> <dbl>  <dbl>\n",
      "1 M1     1.05  4.30 \n",
      "2 M2     1.16  6.65 \n",
      "3 M3     1.10  8.49 \n",
      "4 M4     5.09 -1.07 \n",
      "5 M5    -3.91  1.11 \n",
      "6 M6    -8.42 -2.47 \n",
      "7 M7    -4.93 -0.652\n",
      "8 M8     7.74 -3.56 \n",
      "9 M9     5.30 -1.42 \n"
     ]
    }
   ],
   "source": [
    "%%R\n",
    "centroids"
   ]
  },
  {
   "cell_type": "code",
   "execution_count": 21,
   "metadata": {},
   "outputs": [
    {
     "data": {
      "image/png": "[encoded data removed]",
      "text/plain": [
       "<IPython.core.display.Image object>"
      ]
     },
     "metadata": {},
     "output_type": "display_data"
    }
   ],
   "source": [
    "%%R\n",
    "# Convert traj$dimred_segment_points to a data frame\n",
    "segment_points_df <- as.data.frame(traj$dimred_segment_points)\n",
    "colnames(segment_points_df) <- c(\"PC1\", \"PC2\")\n",
    "\n",
    "# Add a column to indicate if the point name contains \"Tip\"\n",
    "segment_points_df$Tip <- grepl(\"Tip\", rownames(segment_points_df))\n",
    "\n",
    "# Plot\n",
    "ggplot() +\n",
    "    geom_point(data = pca_df, aes(x = PC1, y = PC2), color = \"grey\") +\n",
    "    geom_point(data = pca_df[start_cell,], aes(x = PC1, y = PC2), color = \"black\", size = 5, shape = 3, stroke = 2) +\n",
    "    geom_point(data = segment_points_df, aes(x = PC1, y = PC2, color = Tip)) +\n",
    "    geom_point(data = centroids, aes(x = PC1, y = PC2, color = Group), size = 5, shape = 4, stroke = 2) +\n",
    "    scale_color_manual(values = c(\"black\", \"red\", \"blue\", \"green\", \"purple\", \"orange\", \"pink\", \"brown\", \"yellow\", \"cyan\", \"magenta\")) +\n",
    "    theme_minimal() +\n",
    "    labs(title = \"Trajectory Segment Points and Centroids on PCA\",\n",
    "         x = \"PC1\",\n",
    "         y = \"PC2\",\n",
    "         color = \"Tip/Group\")"
   ]
  },
  {
   "cell_type": "code",
   "execution_count": 34,
   "metadata": {},
   "outputs": [
    {
     "name": "stdout",
     "output_type": "stream",
     "text": [
      "                             comp_1   comp_2\n",
      "MILESTONE_BEGIN_WTip0_Tip1 1.159118 4.031978\n",
      "W2                         1.152318 4.069384\n",
      "W3                         1.145582 4.105567\n",
      "W4                         1.138919 4.140567\n",
      "W5                         1.132337 4.174426\n",
      "W6                         1.125842 4.207182\n"
     ]
    }
   ],
   "source": [
    "%%R\n",
    "head(traj$dimred_segment_points)"
   ]
  },
  {
   "cell_type": "code",
   "execution_count": 35,
   "metadata": {},
   "outputs": [
    {
     "name": "stdout",
     "output_type": "stream",
     "text": [
      "# A tibble: 205 × 3\n",
      "   from  to    percentage\n",
      "   <chr> <chr>      <dbl>\n",
      " 1 Tip0  Tip1      0     \n",
      " 2 Tip0  Tip1      0.0332\n",
      " 3 Tip0  Tip1      0.0664\n",
      " 4 Tip0  Tip1      0.0996\n",
      " 5 Tip0  Tip1      0.133 \n",
      " 6 Tip0  Tip1      0.166 \n",
      " 7 Tip0  Tip1      0.199 \n",
      " 8 Tip0  Tip1      0.232 \n",
      " 9 Tip0  Tip1      0.266 \n",
      "10 Tip0  Tip1      0.299 \n",
      "# ℹ 195 more rows\n",
      "# ℹ Use `print(n = ...)` to see more rows\n"
     ]
    }
   ],
   "source": [
    "%%R\n",
    "head(traj$dimred_segment_progressions,n=206)"
   ]
  },
  {
   "cell_type": "code",
   "execution_count": 53,
   "metadata": {},
   "outputs": [],
   "source": [
    "waypoints = 1\n",
    "progressions = 1"
   ]
  },
  {
   "cell_type": "code",
   "execution_count": 54,
   "metadata": {},
   "outputs": [],
   "source": [
    "%%R -o waypoints -o progressions\n",
    "waypoints <- as.data.frame(traj$dimred_segment_points)\n",
    "progressions <- as.data.frame(traj$dimred_segment_progressions)"
   ]
  },
  {
   "cell_type": "code",
   "execution_count": 55,
   "metadata": {},
   "outputs": [],
   "source": [
    "progressions.set_index(waypoints.index, inplace=True)"
   ]
  },
  {
   "cell_type": "code",
   "execution_count": 56,
   "metadata": {},
   "outputs": [
    {
     "data": {
      "text/html": [
       "<div>\n",
       "<style scoped>\n",
       "    .dataframe tbody tr th:only-of-type {\n",
       "        vertical-align: middle;\n",
       "    }\n",
       "\n",
       "    .dataframe tbody tr th {\n",
       "        vertical-align: top;\n",
       "    }\n",
       "\n",
       "    .dataframe thead th {\n",
       "        text-align: right;\n",
       "    }\n",
       "</style>\n",
       "<table border=\"1\" class=\"dataframe\">\n",
       "  <thead>\n",
       "    <tr style=\"text-align: right;\">\n",
       "      <th></th>\n",
       "      <th>comp_1</th>\n",
       "      <th>comp_2</th>\n",
       "      <th>from</th>\n",
       "      <th>to</th>\n",
       "      <th>percentage</th>\n",
       "    </tr>\n",
       "  </thead>\n",
       "  <tbody>\n",
       "    <tr>\n",
       "      <th>MILESTONE_BEGIN_WTip0_Tip1</th>\n",
       "      <td>1.159118</td>\n",
       "      <td>4.031978</td>\n",
       "      <td>Tip0</td>\n",
       "      <td>Tip1</td>\n",
       "      <td>0.000000</td>\n",
       "    </tr>\n",
       "    <tr>\n",
       "      <th>W2</th>\n",
       "      <td>1.152318</td>\n",
       "      <td>4.069384</td>\n",
       "      <td>Tip0</td>\n",
       "      <td>Tip1</td>\n",
       "      <td>0.033213</td>\n",
       "    </tr>\n",
       "    <tr>\n",
       "      <th>W3</th>\n",
       "      <td>1.145582</td>\n",
       "      <td>4.105567</td>\n",
       "      <td>Tip0</td>\n",
       "      <td>Tip1</td>\n",
       "      <td>0.066427</td>\n",
       "    </tr>\n",
       "    <tr>\n",
       "      <th>W4</th>\n",
       "      <td>1.138919</td>\n",
       "      <td>4.140567</td>\n",
       "      <td>Tip0</td>\n",
       "      <td>Tip1</td>\n",
       "      <td>0.099640</td>\n",
       "    </tr>\n",
       "    <tr>\n",
       "      <th>W5</th>\n",
       "      <td>1.132337</td>\n",
       "      <td>4.174426</td>\n",
       "      <td>Tip0</td>\n",
       "      <td>Tip1</td>\n",
       "      <td>0.132853</td>\n",
       "    </tr>\n",
       "    <tr>\n",
       "      <th>...</th>\n",
       "      <td>...</td>\n",
       "      <td>...</td>\n",
       "      <td>...</td>\n",
       "      <td>...</td>\n",
       "      <td>...</td>\n",
       "    </tr>\n",
       "    <tr>\n",
       "      <th>W201</th>\n",
       "      <td>8.451356</td>\n",
       "      <td>-4.097969</td>\n",
       "      <td>Tip0</td>\n",
       "      <td>Tip3</td>\n",
       "      <td>0.958803</td>\n",
       "    </tr>\n",
       "    <tr>\n",
       "      <th>W202</th>\n",
       "      <td>8.472650</td>\n",
       "      <td>-4.106628</td>\n",
       "      <td>Tip0</td>\n",
       "      <td>Tip3</td>\n",
       "      <td>0.971096</td>\n",
       "    </tr>\n",
       "    <tr>\n",
       "      <th>W203</th>\n",
       "      <td>8.496181</td>\n",
       "      <td>-4.117620</td>\n",
       "      <td>Tip0</td>\n",
       "      <td>Tip3</td>\n",
       "      <td>0.983388</td>\n",
       "    </tr>\n",
       "    <tr>\n",
       "      <th>W204</th>\n",
       "      <td>8.522182</td>\n",
       "      <td>-4.131157</td>\n",
       "      <td>Tip0</td>\n",
       "      <td>Tip3</td>\n",
       "      <td>0.995680</td>\n",
       "    </tr>\n",
       "    <tr>\n",
       "      <th>MILESTONE_END_WTip0_Tip3</th>\n",
       "      <td>8.531939</td>\n",
       "      <td>-4.136552</td>\n",
       "      <td>Tip0</td>\n",
       "      <td>Tip3</td>\n",
       "      <td>1.000000</td>\n",
       "    </tr>\n",
       "  </tbody>\n",
       "</table>\n",
       "<p>205 rows × 5 columns</p>\n",
       "</div>"
      ],
      "text/plain": [
       "                              comp_1    comp_2  from    to  percentage\n",
       "MILESTONE_BEGIN_WTip0_Tip1  1.159118  4.031978  Tip0  Tip1    0.000000\n",
       "W2                          1.152318  4.069384  Tip0  Tip1    0.033213\n",
       "W3                          1.145582  4.105567  Tip0  Tip1    0.066427\n",
       "W4                          1.138919  4.140567  Tip0  Tip1    0.099640\n",
       "W5                          1.132337  4.174426  Tip0  Tip1    0.132853\n",
       "...                              ...       ...   ...   ...         ...\n",
       "W201                        8.451356 -4.097969  Tip0  Tip3    0.958803\n",
       "W202                        8.472650 -4.106628  Tip0  Tip3    0.971096\n",
       "W203                        8.496181 -4.117620  Tip0  Tip3    0.983388\n",
       "W204                        8.522182 -4.131157  Tip0  Tip3    0.995680\n",
       "MILESTONE_END_WTip0_Tip3    8.531939 -4.136552  Tip0  Tip3    1.000000\n",
       "\n",
       "[205 rows x 5 columns]"
      ]
     },
     "execution_count": 56,
     "metadata": {},
     "output_type": "execute_result"
    }
   ],
   "source": [
    "waypoints['from'] = progressions['from']\n",
    "waypoints['to'] = progressions['to']\n",
    "waypoints['percentage'] = progressions['percentage']\n",
    "waypoints"
   ]
  },
  {
   "cell_type": "code",
   "execution_count": 65,
   "metadata": {},
   "outputs": [],
   "source": [
    "milestones = 1"
   ]
  },
  {
   "cell_type": "code",
   "execution_count": 66,
   "metadata": {},
   "outputs": [],
   "source": [
    "%%R -o milestones\n",
    "milestones <- as.data.frame(traj$dimred_milestones)"
   ]
  },
  {
   "cell_type": "code",
   "execution_count": null,
   "metadata": {},
   "outputs": [
    {
     "data": {
      "text/html": [
       "<div>\n",
       "<style scoped>\n",
       "    .dataframe tbody tr th:only-of-type {\n",
       "        vertical-align: middle;\n",
       "    }\n",
       "\n",
       "    .dataframe tbody tr th {\n",
       "        vertical-align: top;\n",
       "    }\n",
       "\n",
       "    .dataframe thead th {\n",
       "        text-align: right;\n",
       "    }\n",
       "</style>\n",
       "<table border=\"1\" class=\"dataframe\">\n",
       "  <thead>\n",
       "    <tr style=\"text-align: right;\">\n",
       "      <th></th>\n",
       "      <th>comp_1</th>\n",
       "      <th>comp_2</th>\n",
       "    </tr>\n",
       "  </thead>\n",
       "  <tbody>\n",
       "    <tr>\n",
       "      <th>Tip0</th>\n",
       "      <td>1.159118</td>\n",
       "      <td>4.031978</td>\n",
       "    </tr>\n",
       "    <tr>\n",
       "      <th>Tip1</th>\n",
       "      <td>0.997855</td>\n",
       "      <td>4.759664</td>\n",
       "    </tr>\n",
       "    <tr>\n",
       "      <th>Tip2</th>\n",
       "      <td>-9.478539</td>\n",
       "      <td>-3.562463</td>\n",
       "    </tr>\n",
       "    <tr>\n",
       "      <th>Tip3</th>\n",
       "      <td>8.531939</td>\n",
       "      <td>-4.136552</td>\n",
       "    </tr>\n",
       "  </tbody>\n",
       "</table>\n",
       "</div>"
      ],
      "text/plain": [
       "        comp_1    comp_2\n",
       "Tip0  1.159118  4.031978\n",
       "Tip1  0.997855  4.759664\n",
       "Tip2 -9.478539 -3.562463\n",
       "Tip3  8.531939 -4.136552"
      ]
     },
     "execution_count": 67,
     "metadata": {},
     "output_type": "execute_result"
    }
   ],
   "source": [
    "milestones"
   ]
  },
  {
   "cell_type": "code",
   "execution_count": null,
   "metadata": {},
   "outputs": [
    {
     "data": {
      "text/html": [
       "<div>\n",
       "<style scoped>\n",
       "    .dataframe tbody tr th:only-of-type {\n",
       "        vertical-align: middle;\n",
       "    }\n",
       "\n",
       "    .dataframe tbody tr th {\n",
       "        vertical-align: top;\n",
       "    }\n",
       "\n",
       "    .dataframe thead th {\n",
       "        text-align: right;\n",
       "    }\n",
       "</style>\n",
       "<table border=\"1\" class=\"dataframe\">\n",
       "  <thead>\n",
       "    <tr style=\"text-align: right;\">\n",
       "      <th></th>\n",
       "      <th>comp_1</th>\n",
       "      <th>comp_2</th>\n",
       "      <th>Tip0</th>\n",
       "      <th>Tip1</th>\n",
       "      <th>Tip2</th>\n",
       "      <th>Tip3</th>\n",
       "    </tr>\n",
       "  </thead>\n",
       "  <tbody>\n",
       "    <tr>\n",
       "      <th>Tip0</th>\n",
       "      <td>1.159118</td>\n",
       "      <td>4.031978</td>\n",
       "      <td>0.000000</td>\n",
       "      <td>0.555533</td>\n",
       "      <td>170.835283</td>\n",
       "      <td>121.083379</td>\n",
       "    </tr>\n",
       "    <tr>\n",
       "      <th>Tip1</th>\n",
       "      <td>0.997855</td>\n",
       "      <td>4.759664</td>\n",
       "      <td>0.555533</td>\n",
       "      <td>0.000000</td>\n",
       "      <td>179.012627</td>\n",
       "      <td>135.905090</td>\n",
       "    </tr>\n",
       "    <tr>\n",
       "      <th>Tip2</th>\n",
       "      <td>-9.478539</td>\n",
       "      <td>-3.562463</td>\n",
       "      <td>170.835283</td>\n",
       "      <td>179.012627</td>\n",
       "      <td>0.000000</td>\n",
       "      <td>324.706909</td>\n",
       "    </tr>\n",
       "    <tr>\n",
       "      <th>Tip3</th>\n",
       "      <td>8.531939</td>\n",
       "      <td>-4.136552</td>\n",
       "      <td>121.083379</td>\n",
       "      <td>135.905090</td>\n",
       "      <td>324.706909</td>\n",
       "      <td>0.000000</td>\n",
       "    </tr>\n",
       "  </tbody>\n",
       "</table>\n",
       "</div>"
      ],
      "text/plain": [
       "        comp_1    comp_2        Tip0        Tip1        Tip2        Tip3\n",
       "Tip0  1.159118  4.031978    0.000000    0.555533  170.835283  121.083379\n",
       "Tip1  0.997855  4.759664    0.555533    0.000000  179.012627  135.905090\n",
       "Tip2 -9.478539 -3.562463  170.835283  179.012627    0.000000  324.706909\n",
       "Tip3  8.531939 -4.136552  121.083379  135.905090  324.706909    0.000000"
      ]
     },
     "execution_count": 68,
     "metadata": {},
     "output_type": "execute_result"
    }
   ],
   "source": [
    "for tip in milestones.index:\n",
    "    milestones[tip] = np.sqrt((milestones['comp_1'] - milestones.loc[tip, 'comp_1'])**2 + (milestones['comp_2'] - milestones.loc[tip, 'comp_2'])**2)\n",
    "milestones"
   ]
  },
  {
   "cell_type": "code",
   "execution_count": 76,
   "metadata": {},
   "outputs": [
    {
     "data": {
      "text/html": [
       "<div>\n",
       "<style scoped>\n",
       "    .dataframe tbody tr th:only-of-type {\n",
       "        vertical-align: middle;\n",
       "    }\n",
       "\n",
       "    .dataframe tbody tr th {\n",
       "        vertical-align: top;\n",
       "    }\n",
       "\n",
       "    .dataframe thead th {\n",
       "        text-align: right;\n",
       "    }\n",
       "</style>\n",
       "<table border=\"1\" class=\"dataframe\">\n",
       "  <thead>\n",
       "    <tr style=\"text-align: right;\">\n",
       "      <th></th>\n",
       "      <th>comp_1</th>\n",
       "      <th>comp_2</th>\n",
       "      <th>from</th>\n",
       "      <th>to</th>\n",
       "      <th>percentage</th>\n",
       "      <th>distance_from</th>\n",
       "      <th>distance_to</th>\n",
       "    </tr>\n",
       "  </thead>\n",
       "  <tbody>\n",
       "    <tr>\n",
       "      <th>MILESTONE_BEGIN_WTip0_Tip1</th>\n",
       "      <td>1.159118</td>\n",
       "      <td>4.031978</td>\n",
       "      <td>Tip0</td>\n",
       "      <td>Tip1</td>\n",
       "      <td>0.000000</td>\n",
       "      <td>0.000000</td>\n",
       "      <td>0.555533</td>\n",
       "    </tr>\n",
       "    <tr>\n",
       "      <th>W2</th>\n",
       "      <td>1.152318</td>\n",
       "      <td>4.069384</td>\n",
       "      <td>Tip0</td>\n",
       "      <td>Tip1</td>\n",
       "      <td>0.033213</td>\n",
       "      <td>0.018451</td>\n",
       "      <td>0.537082</td>\n",
       "    </tr>\n",
       "    <tr>\n",
       "      <th>W3</th>\n",
       "      <td>1.145582</td>\n",
       "      <td>4.105567</td>\n",
       "      <td>Tip0</td>\n",
       "      <td>Tip1</td>\n",
       "      <td>0.066427</td>\n",
       "      <td>0.036902</td>\n",
       "      <td>0.518631</td>\n",
       "    </tr>\n",
       "    <tr>\n",
       "      <th>W4</th>\n",
       "      <td>1.138919</td>\n",
       "      <td>4.140567</td>\n",
       "      <td>Tip0</td>\n",
       "      <td>Tip1</td>\n",
       "      <td>0.099640</td>\n",
       "      <td>0.055353</td>\n",
       "      <td>0.500180</td>\n",
       "    </tr>\n",
       "    <tr>\n",
       "      <th>W5</th>\n",
       "      <td>1.132337</td>\n",
       "      <td>4.174426</td>\n",
       "      <td>Tip0</td>\n",
       "      <td>Tip1</td>\n",
       "      <td>0.132853</td>\n",
       "      <td>0.073804</td>\n",
       "      <td>0.481728</td>\n",
       "    </tr>\n",
       "    <tr>\n",
       "      <th>...</th>\n",
       "      <td>...</td>\n",
       "      <td>...</td>\n",
       "      <td>...</td>\n",
       "      <td>...</td>\n",
       "      <td>...</td>\n",
       "      <td>...</td>\n",
       "      <td>...</td>\n",
       "    </tr>\n",
       "    <tr>\n",
       "      <th>W201</th>\n",
       "      <td>8.451356</td>\n",
       "      <td>-4.097969</td>\n",
       "      <td>Tip0</td>\n",
       "      <td>Tip3</td>\n",
       "      <td>0.958803</td>\n",
       "      <td>116.095143</td>\n",
       "      <td>4.988236</td>\n",
       "    </tr>\n",
       "    <tr>\n",
       "      <th>W202</th>\n",
       "      <td>8.472650</td>\n",
       "      <td>-4.106628</td>\n",
       "      <td>Tip0</td>\n",
       "      <td>Tip3</td>\n",
       "      <td>0.971096</td>\n",
       "      <td>117.583542</td>\n",
       "      <td>3.499837</td>\n",
       "    </tr>\n",
       "    <tr>\n",
       "      <th>W203</th>\n",
       "      <td>8.496181</td>\n",
       "      <td>-4.117620</td>\n",
       "      <td>Tip0</td>\n",
       "      <td>Tip3</td>\n",
       "      <td>0.983388</td>\n",
       "      <td>119.071941</td>\n",
       "      <td>2.011438</td>\n",
       "    </tr>\n",
       "    <tr>\n",
       "      <th>W204</th>\n",
       "      <td>8.522182</td>\n",
       "      <td>-4.131157</td>\n",
       "      <td>Tip0</td>\n",
       "      <td>Tip3</td>\n",
       "      <td>0.995680</td>\n",
       "      <td>120.560341</td>\n",
       "      <td>0.523038</td>\n",
       "    </tr>\n",
       "    <tr>\n",
       "      <th>MILESTONE_END_WTip0_Tip3</th>\n",
       "      <td>8.531939</td>\n",
       "      <td>-4.136552</td>\n",
       "      <td>Tip0</td>\n",
       "      <td>Tip3</td>\n",
       "      <td>1.000000</td>\n",
       "      <td>121.083379</td>\n",
       "      <td>0.000000</td>\n",
       "    </tr>\n",
       "  </tbody>\n",
       "</table>\n",
       "<p>205 rows × 7 columns</p>\n",
       "</div>"
      ],
      "text/plain": [
       "                              comp_1    comp_2  from    to  percentage  \\\n",
       "MILESTONE_BEGIN_WTip0_Tip1  1.159118  4.031978  Tip0  Tip1    0.000000   \n",
       "W2                          1.152318  4.069384  Tip0  Tip1    0.033213   \n",
       "W3                          1.145582  4.105567  Tip0  Tip1    0.066427   \n",
       "W4                          1.138919  4.140567  Tip0  Tip1    0.099640   \n",
       "W5                          1.132337  4.174426  Tip0  Tip1    0.132853   \n",
       "...                              ...       ...   ...   ...         ...   \n",
       "W201                        8.451356 -4.097969  Tip0  Tip3    0.958803   \n",
       "W202                        8.472650 -4.106628  Tip0  Tip3    0.971096   \n",
       "W203                        8.496181 -4.117620  Tip0  Tip3    0.983388   \n",
       "W204                        8.522182 -4.131157  Tip0  Tip3    0.995680   \n",
       "MILESTONE_END_WTip0_Tip3    8.531939 -4.136552  Tip0  Tip3    1.000000   \n",
       "\n",
       "                            distance_from  distance_to  \n",
       "MILESTONE_BEGIN_WTip0_Tip1       0.000000     0.555533  \n",
       "W2                               0.018451     0.537082  \n",
       "W3                               0.036902     0.518631  \n",
       "W4                               0.055353     0.500180  \n",
       "W5                               0.073804     0.481728  \n",
       "...                                   ...          ...  \n",
       "W201                           116.095143     4.988236  \n",
       "W202                           117.583542     3.499837  \n",
       "W203                           119.071941     2.011438  \n",
       "W204                           120.560341     0.523038  \n",
       "MILESTONE_END_WTip0_Tip3       121.083379     0.000000  \n",
       "\n",
       "[205 rows x 7 columns]"
      ]
     },
     "execution_count": 76,
     "metadata": {},
     "output_type": "execute_result"
    }
   ],
   "source": [
    "for w in waypoints.index:\n",
    "    waypoints.loc[w,'distance_from'] = waypoints.loc[w,'percentage'] * milestones.loc[waypoints.loc[w,'from'],waypoints.loc[w,'to']]\n",
    "    waypoints.loc[w,'distance_to'] = (1-waypoints.loc[w,'percentage']) * milestones.loc[waypoints.loc[w,'from'],waypoints.loc[w,'to']]\n",
    "waypoints"
   ]
  },
  {
   "cell_type": "code",
   "execution_count": 165,
   "metadata": {},
   "outputs": [
    {
     "data": {
      "text/plain": [
       "comp_1           1.106935\n",
       "comp_2           4.299202\n",
       "from                 Tip0\n",
       "to                   Tip1\n",
       "percentage       0.265706\n",
       "distance_from    0.147608\n",
       "distance_to      0.407924\n",
       "Name: W9, dtype: object"
      ]
     },
     "execution_count": 165,
     "metadata": {},
     "output_type": "execute_result"
    }
   ],
   "source": [
    "waypoints.loc['W9']"
   ]
  },
  {
   "cell_type": "code",
   "execution_count": 151,
   "metadata": {},
   "outputs": [
    {
     "data": {
      "text/html": [
       "<div>\n",
       "<style scoped>\n",
       "    .dataframe tbody tr th:only-of-type {\n",
       "        vertical-align: middle;\n",
       "    }\n",
       "\n",
       "    .dataframe tbody tr th {\n",
       "        vertical-align: top;\n",
       "    }\n",
       "\n",
       "    .dataframe thead th {\n",
       "        text-align: right;\n",
       "    }\n",
       "</style>\n",
       "<table border=\"1\" class=\"dataframe\">\n",
       "  <thead>\n",
       "    <tr style=\"text-align: right;\">\n",
       "      <th></th>\n",
       "      <th>from</th>\n",
       "      <th>to</th>\n",
       "      <th>distance</th>\n",
       "    </tr>\n",
       "  </thead>\n",
       "  <tbody>\n",
       "    <tr>\n",
       "      <th>1</th>\n",
       "      <td>Tip0</td>\n",
       "      <td>Tip1</td>\n",
       "      <td>0.555533</td>\n",
       "    </tr>\n",
       "    <tr>\n",
       "      <th>2</th>\n",
       "      <td>Tip0</td>\n",
       "      <td>Tip2</td>\n",
       "      <td>170.835283</td>\n",
       "    </tr>\n",
       "    <tr>\n",
       "      <th>3</th>\n",
       "      <td>Tip0</td>\n",
       "      <td>Tip3</td>\n",
       "      <td>121.083379</td>\n",
       "    </tr>\n",
       "  </tbody>\n",
       "</table>\n",
       "</div>"
      ],
      "text/plain": [
       "   from    to    distance\n",
       "1  Tip0  Tip1    0.555533\n",
       "2  Tip0  Tip2  170.835283\n",
       "3  Tip0  Tip3  121.083379"
      ]
     },
     "execution_count": 151,
     "metadata": {},
     "output_type": "execute_result"
    }
   ],
   "source": [
    "milestone_network = pd.DataFrame(columns=['from', 'to', 'distance'])\n",
    "temp = set()\n",
    "for i, row in waypoints.iterrows():\n",
    "    if (row['from'], row['to']) not in temp:\n",
    "        temp.add((row['from'], row['to']))\n",
    "        milestone_network.loc[len(milestone_network)+1] = {'from': row['from'], 'to': row['to'], 'distance': float(milestones.loc[row['from'], row['to']])}\n",
    "milestone_network"
   ]
  },
  {
   "cell_type": "code",
   "execution_count": 168,
   "metadata": {},
   "outputs": [
    {
     "data": {
      "text/plain": [
       "{'Tip0': {'Tip0': 0,\n",
       "  'Tip1': 0.5555326619044978,\n",
       "  'Tip2': 170.8352828184493,\n",
       "  'Tip3': 121.0833791400634},\n",
       " 'Tip1': {'Tip1': 0},\n",
       " 'Tip2': {'Tip2': 0},\n",
       " 'Tip3': {'Tip3': 0}}"
      ]
     },
     "execution_count": 168,
     "metadata": {},
     "output_type": "execute_result"
    }
   ],
   "source": [
    "adj = {}\n",
    "for m in milestones.index:\n",
    "    adj[m] = {}\n",
    "    adj[m][m] = 0  \n",
    "for i, row in milestone_network.iterrows():\n",
    "    adj[row['from']][row['to']] = row['distance']\n",
    "adj"
   ]
  },
  {
   "cell_type": "code",
   "execution_count": 113,
   "metadata": {},
   "outputs": [],
   "source": [
    "new_milestones = 1"
   ]
  },
  {
   "cell_type": "code",
   "execution_count": 121,
   "metadata": {},
   "outputs": [],
   "source": [
    "%%R -o new_milestones\n",
    "new_milestones <- as.data.frame(centroids)"
   ]
  },
  {
   "cell_type": "code",
   "execution_count": 123,
   "metadata": {},
   "outputs": [
    {
     "data": {
      "text/html": [
       "<div>\n",
       "<style scoped>\n",
       "    .dataframe tbody tr th:only-of-type {\n",
       "        vertical-align: middle;\n",
       "    }\n",
       "\n",
       "    .dataframe tbody tr th {\n",
       "        vertical-align: top;\n",
       "    }\n",
       "\n",
       "    .dataframe thead th {\n",
       "        text-align: right;\n",
       "    }\n",
       "</style>\n",
       "<table border=\"1\" class=\"dataframe\">\n",
       "  <thead>\n",
       "    <tr style=\"text-align: right;\">\n",
       "      <th></th>\n",
       "      <th>comp_1</th>\n",
       "      <th>comp_2</th>\n",
       "    </tr>\n",
       "  </thead>\n",
       "  <tbody>\n",
       "    <tr>\n",
       "      <th>M1</th>\n",
       "      <td>1.048368</td>\n",
       "      <td>4.298450</td>\n",
       "    </tr>\n",
       "    <tr>\n",
       "      <th>M2</th>\n",
       "      <td>1.164435</td>\n",
       "      <td>6.649593</td>\n",
       "    </tr>\n",
       "    <tr>\n",
       "      <th>M3</th>\n",
       "      <td>1.102038</td>\n",
       "      <td>8.489153</td>\n",
       "    </tr>\n",
       "    <tr>\n",
       "      <th>M4</th>\n",
       "      <td>5.085394</td>\n",
       "      <td>-1.068862</td>\n",
       "    </tr>\n",
       "    <tr>\n",
       "      <th>M5</th>\n",
       "      <td>-3.912888</td>\n",
       "      <td>1.111688</td>\n",
       "    </tr>\n",
       "    <tr>\n",
       "      <th>M6</th>\n",
       "      <td>-8.423240</td>\n",
       "      <td>-2.468523</td>\n",
       "    </tr>\n",
       "    <tr>\n",
       "      <th>M7</th>\n",
       "      <td>-4.930882</td>\n",
       "      <td>-0.652197</td>\n",
       "    </tr>\n",
       "    <tr>\n",
       "      <th>M8</th>\n",
       "      <td>7.735236</td>\n",
       "      <td>-3.563896</td>\n",
       "    </tr>\n",
       "    <tr>\n",
       "      <th>M9</th>\n",
       "      <td>5.298591</td>\n",
       "      <td>-1.419175</td>\n",
       "    </tr>\n",
       "  </tbody>\n",
       "</table>\n",
       "</div>"
      ],
      "text/plain": [
       "      comp_1    comp_2\n",
       "M1  1.048368  4.298450\n",
       "M2  1.164435  6.649593\n",
       "M3  1.102038  8.489153\n",
       "M4  5.085394 -1.068862\n",
       "M5 -3.912888  1.111688\n",
       "M6 -8.423240 -2.468523\n",
       "M7 -4.930882 -0.652197\n",
       "M8  7.735236 -3.563896\n",
       "M9  5.298591 -1.419175"
      ]
     },
     "execution_count": 123,
     "metadata": {},
     "output_type": "execute_result"
    }
   ],
   "source": [
    "new_milestones.rename(columns={'PC1': 'comp_1', 'PC2': 'comp_2'}, inplace=True)\n",
    "new_milestones.drop(columns=['Group'], inplace=True)\n",
    "new_milestones.index = ['M' + str(i+1) for i in range(len(new_milestones))]\n",
    "new_milestones"
   ]
  },
  {
   "cell_type": "code",
   "execution_count": 128,
   "metadata": {},
   "outputs": [],
   "source": [
    "cells = 1"
   ]
  },
  {
   "cell_type": "code",
   "execution_count": 129,
   "metadata": {},
   "outputs": [],
   "source": [
    "%%R -o cells\n",
    "cells <- as.data.frame(pca_dimred)"
   ]
  },
  {
   "cell_type": "code",
   "execution_count": null,
   "metadata": {},
   "outputs": [],
   "source": [
    "# dist = pd.DataFrame(index=cells.index, columns=waypoints.index)\n",
    "# for cell in cells.index:\n",
    "#     for waypoint in waypoints.index:\n",
    "#         dist.loc[cell,waypoint] = np.sqrt((cells.loc[cell,'comp_1'] - waypoints.loc[waypoint,'comp_1'])**2 + (cells.loc[cell,'comp_2'] - waypoints.loc[waypoint,'comp_2'])**2)\n",
    "# closest = pd.DataFrame(index=cells.index, columns=['closest_waypoint', 'distance'])\n",
    "# for cell in dist.index:\n",
    "#     min_distance = dist.loc[cell].min()\n",
    "#     closest_waypoint = dist.loc[cell].idxmin()\n",
    "#     closest.loc[cell] = [closest_waypoint, min_distance]"
   ]
  },
  {
   "cell_type": "code",
   "execution_count": 126,
   "metadata": {},
   "outputs": [
    {
     "data": {
      "text/html": [
       "<div>\n",
       "<style scoped>\n",
       "    .dataframe tbody tr th:only-of-type {\n",
       "        vertical-align: middle;\n",
       "    }\n",
       "\n",
       "    .dataframe tbody tr th {\n",
       "        vertical-align: top;\n",
       "    }\n",
       "\n",
       "    .dataframe thead th {\n",
       "        text-align: right;\n",
       "    }\n",
       "</style>\n",
       "<table border=\"1\" class=\"dataframe\">\n",
       "  <thead>\n",
       "    <tr style=\"text-align: right;\">\n",
       "      <th></th>\n",
       "      <th>MILESTONE_BEGIN_WTip0_Tip1</th>\n",
       "      <th>W2</th>\n",
       "      <th>W3</th>\n",
       "      <th>W4</th>\n",
       "      <th>W5</th>\n",
       "      <th>W6</th>\n",
       "      <th>W7</th>\n",
       "      <th>W8</th>\n",
       "      <th>W9</th>\n",
       "      <th>W10</th>\n",
       "      <th>...</th>\n",
       "      <th>W196</th>\n",
       "      <th>W197</th>\n",
       "      <th>W198</th>\n",
       "      <th>W199</th>\n",
       "      <th>W200</th>\n",
       "      <th>W201</th>\n",
       "      <th>W202</th>\n",
       "      <th>W203</th>\n",
       "      <th>W204</th>\n",
       "      <th>MILESTONE_END_WTip0_Tip3</th>\n",
       "    </tr>\n",
       "  </thead>\n",
       "  <tbody>\n",
       "    <tr>\n",
       "      <th>M1</th>\n",
       "      <td>0.28857</td>\n",
       "      <td>0.251549</td>\n",
       "      <td>0.215997</td>\n",
       "      <td>0.182007</td>\n",
       "      <td>0.149775</td>\n",
       "      <td>0.119716</td>\n",
       "      <td>0.09274</td>\n",
       "      <td>0.07093</td>\n",
       "      <td>0.058572</td>\n",
       "      <td>0.060176</td>\n",
       "      <td>...</td>\n",
       "      <td>11.126919</td>\n",
       "      <td>11.136714</td>\n",
       "      <td>11.147979</td>\n",
       "      <td>11.161034</td>\n",
       "      <td>11.176229</td>\n",
       "      <td>11.19393</td>\n",
       "      <td>11.214513</td>\n",
       "      <td>11.238334</td>\n",
       "      <td>11.265708</td>\n",
       "      <td>11.276218</td>\n",
       "    </tr>\n",
       "    <tr>\n",
       "      <th>M2</th>\n",
       "      <td>2.61762</td>\n",
       "      <td>2.580237</td>\n",
       "      <td>2.544096</td>\n",
       "      <td>2.509155</td>\n",
       "      <td>2.475375</td>\n",
       "      <td>2.442716</td>\n",
       "      <td>2.41114</td>\n",
       "      <td>2.380612</td>\n",
       "      <td>2.351094</td>\n",
       "      <td>2.322554</td>\n",
       "      <td>...</td>\n",
       "      <td>12.924948</td>\n",
       "      <td>12.933356</td>\n",
       "      <td>12.943236</td>\n",
       "      <td>12.9549</td>\n",
       "      <td>12.96869</td>\n",
       "      <td>12.984964</td>\n",
       "      <td>13.004087</td>\n",
       "      <td>13.02641</td>\n",
       "      <td>13.052242</td>\n",
       "      <td>13.062199</td>\n",
       "    </tr>\n",
       "    <tr>\n",
       "      <th>M3</th>\n",
       "      <td>4.45754</td>\n",
       "      <td>4.420055</td>\n",
       "      <td>4.383802</td>\n",
       "      <td>4.348742</td>\n",
       "      <td>4.314833</td>\n",
       "      <td>4.282037</td>\n",
       "      <td>4.250316</td>\n",
       "      <td>4.219633</td>\n",
       "      <td>4.189954</td>\n",
       "      <td>4.161243</td>\n",
       "      <td>...</td>\n",
       "      <td>14.519691</td>\n",
       "      <td>14.527308</td>\n",
       "      <td>14.536388</td>\n",
       "      <td>14.547238</td>\n",
       "      <td>14.560191</td>\n",
       "      <td>14.575599</td>\n",
       "      <td>14.593821</td>\n",
       "      <td>14.6152</td>\n",
       "      <td>14.64004</td>\n",
       "      <td>14.649637</td>\n",
       "    </tr>\n",
       "    <tr>\n",
       "      <th>M4</th>\n",
       "      <td>6.436941</td>\n",
       "      <td>6.470754</td>\n",
       "      <td>6.503601</td>\n",
       "      <td>6.535504</td>\n",
       "      <td>6.566485</td>\n",
       "      <td>6.596567</td>\n",
       "      <td>6.625771</td>\n",
       "      <td>6.654119</td>\n",
       "      <td>6.681635</td>\n",
       "      <td>6.70834</td>\n",
       "      <td>...</td>\n",
       "      <td>4.455926</td>\n",
       "      <td>4.466808</td>\n",
       "      <td>4.479146</td>\n",
       "      <td>4.493265</td>\n",
       "      <td>4.509514</td>\n",
       "      <td>4.528265</td>\n",
       "      <td>4.549893</td>\n",
       "      <td>4.574756</td>\n",
       "      <td>4.603169</td>\n",
       "      <td>4.614044</td>\n",
       "    </tr>\n",
       "    <tr>\n",
       "      <th>M5</th>\n",
       "      <td>5.852635</td>\n",
       "      <td>5.865516</td>\n",
       "      <td>5.878047</td>\n",
       "      <td>5.890235</td>\n",
       "      <td>5.90209</td>\n",
       "      <td>5.913619</td>\n",
       "      <td>5.92483</td>\n",
       "      <td>5.935732</td>\n",
       "      <td>5.946332</td>\n",
       "      <td>5.956639</td>\n",
       "      <td>...</td>\n",
       "      <td>13.334395</td>\n",
       "      <td>13.347732</td>\n",
       "      <td>13.362336</td>\n",
       "      <td>13.378516</td>\n",
       "      <td>13.396609</td>\n",
       "      <td>13.416969</td>\n",
       "      <td>13.439954</td>\n",
       "      <td>13.465907</td>\n",
       "      <td>13.495125</td>\n",
       "      <td>13.506212</td>\n",
       "    </tr>\n",
       "    <tr>\n",
       "      <th>M6</th>\n",
       "      <td>11.57921</td>\n",
       "      <td>11.594635</td>\n",
       "      <td>11.609523</td>\n",
       "      <td>11.623897</td>\n",
       "      <td>11.637776</td>\n",
       "      <td>11.651181</td>\n",
       "      <td>11.664129</td>\n",
       "      <td>11.676639</td>\n",
       "      <td>11.688728</td>\n",
       "      <td>11.70041</td>\n",
       "      <td>...</td>\n",
       "      <td>16.869278</td>\n",
       "      <td>16.883509</td>\n",
       "      <td>16.898727</td>\n",
       "      <td>16.915199</td>\n",
       "      <td>16.933217</td>\n",
       "      <td>16.953085</td>\n",
       "      <td>16.975114</td>\n",
       "      <td>16.999598</td>\n",
       "      <td>17.026793</td>\n",
       "      <td>17.037032</td>\n",
       "    </tr>\n",
       "    <tr>\n",
       "      <th>M7</th>\n",
       "      <td>7.683072</td>\n",
       "      <td>7.700562</td>\n",
       "      <td>7.717496</td>\n",
       "      <td>7.733892</td>\n",
       "      <td>7.749769</td>\n",
       "      <td>7.765145</td>\n",
       "      <td>7.780036</td>\n",
       "      <td>7.79446</td>\n",
       "      <td>7.808431</td>\n",
       "      <td>7.821965</td>\n",
       "      <td>...</td>\n",
       "      <td>13.734604</td>\n",
       "      <td>13.748536</td>\n",
       "      <td>13.763611</td>\n",
       "      <td>13.780123</td>\n",
       "      <td>13.798388</td>\n",
       "      <td>13.818742</td>\n",
       "      <td>13.841523</td>\n",
       "      <td>13.867054</td>\n",
       "      <td>13.895614</td>\n",
       "      <td>13.906412</td>\n",
       "    </tr>\n",
       "    <tr>\n",
       "      <th>M8</th>\n",
       "      <td>10.047021</td>\n",
       "      <td>10.07977</td>\n",
       "      <td>10.111587</td>\n",
       "      <td>10.142492</td>\n",
       "      <td>10.172507</td>\n",
       "      <td>10.201654</td>\n",
       "      <td>10.229954</td>\n",
       "      <td>10.257428</td>\n",
       "      <td>10.284098</td>\n",
       "      <td>10.309987</td>\n",
       "      <td>...</td>\n",
       "      <td>0.817961</td>\n",
       "      <td>0.82939</td>\n",
       "      <td>0.842319</td>\n",
       "      <td>0.857059</td>\n",
       "      <td>0.873947</td>\n",
       "      <td>0.893343</td>\n",
       "      <td>0.915608</td>\n",
       "      <td>0.941088</td>\n",
       "      <td>0.970087</td>\n",
       "      <td>0.981158</td>\n",
       "    </tr>\n",
       "    <tr>\n",
       "      <th>M9</th>\n",
       "      <td>6.844728</td>\n",
       "      <td>6.878652</td>\n",
       "      <td>6.911603</td>\n",
       "      <td>6.943602</td>\n",
       "      <td>6.974672</td>\n",
       "      <td>7.004836</td>\n",
       "      <td>7.034117</td>\n",
       "      <td>7.062538</td>\n",
       "      <td>7.090121</td>\n",
       "      <td>7.116889</td>\n",
       "      <td>...</td>\n",
       "      <td>4.0636</td>\n",
       "      <td>4.074737</td>\n",
       "      <td>4.087322</td>\n",
       "      <td>4.101679</td>\n",
       "      <td>4.118159</td>\n",
       "      <td>4.137132</td>\n",
       "      <td>4.158973</td>\n",
       "      <td>4.184039</td>\n",
       "      <td>4.212646</td>\n",
       "      <td>4.223586</td>\n",
       "    </tr>\n",
       "  </tbody>\n",
       "</table>\n",
       "<p>9 rows × 205 columns</p>\n",
       "</div>"
      ],
      "text/plain": [
       "   MILESTONE_BEGIN_WTip0_Tip1         W2         W3         W4         W5  \\\n",
       "M1                    0.28857   0.251549   0.215997   0.182007   0.149775   \n",
       "M2                    2.61762   2.580237   2.544096   2.509155   2.475375   \n",
       "M3                    4.45754   4.420055   4.383802   4.348742   4.314833   \n",
       "M4                   6.436941   6.470754   6.503601   6.535504   6.566485   \n",
       "M5                   5.852635   5.865516   5.878047   5.890235    5.90209   \n",
       "M6                   11.57921  11.594635  11.609523  11.623897  11.637776   \n",
       "M7                   7.683072   7.700562   7.717496   7.733892   7.749769   \n",
       "M8                  10.047021   10.07977  10.111587  10.142492  10.172507   \n",
       "M9                   6.844728   6.878652   6.911603   6.943602   6.974672   \n",
       "\n",
       "           W6         W7         W8         W9        W10  ...       W196  \\\n",
       "M1   0.119716    0.09274    0.07093   0.058572   0.060176  ...  11.126919   \n",
       "M2   2.442716    2.41114   2.380612   2.351094   2.322554  ...  12.924948   \n",
       "M3   4.282037   4.250316   4.219633   4.189954   4.161243  ...  14.519691   \n",
       "M4   6.596567   6.625771   6.654119   6.681635    6.70834  ...   4.455926   \n",
       "M5   5.913619    5.92483   5.935732   5.946332   5.956639  ...  13.334395   \n",
       "M6  11.651181  11.664129  11.676639  11.688728   11.70041  ...  16.869278   \n",
       "M7   7.765145   7.780036    7.79446   7.808431   7.821965  ...  13.734604   \n",
       "M8  10.201654  10.229954  10.257428  10.284098  10.309987  ...   0.817961   \n",
       "M9   7.004836   7.034117   7.062538   7.090121   7.116889  ...     4.0636   \n",
       "\n",
       "         W197       W198       W199       W200       W201       W202  \\\n",
       "M1  11.136714  11.147979  11.161034  11.176229   11.19393  11.214513   \n",
       "M2  12.933356  12.943236    12.9549   12.96869  12.984964  13.004087   \n",
       "M3  14.527308  14.536388  14.547238  14.560191  14.575599  14.593821   \n",
       "M4   4.466808   4.479146   4.493265   4.509514   4.528265   4.549893   \n",
       "M5  13.347732  13.362336  13.378516  13.396609  13.416969  13.439954   \n",
       "M6  16.883509  16.898727  16.915199  16.933217  16.953085  16.975114   \n",
       "M7  13.748536  13.763611  13.780123  13.798388  13.818742  13.841523   \n",
       "M8    0.82939   0.842319   0.857059   0.873947   0.893343   0.915608   \n",
       "M9   4.074737   4.087322   4.101679   4.118159   4.137132   4.158973   \n",
       "\n",
       "         W203       W204 MILESTONE_END_WTip0_Tip3  \n",
       "M1  11.238334  11.265708                11.276218  \n",
       "M2   13.02641  13.052242                13.062199  \n",
       "M3    14.6152   14.64004                14.649637  \n",
       "M4   4.574756   4.603169                 4.614044  \n",
       "M5  13.465907  13.495125                13.506212  \n",
       "M6  16.999598  17.026793                17.037032  \n",
       "M7  13.867054  13.895614                13.906412  \n",
       "M8   0.941088   0.970087                 0.981158  \n",
       "M9   4.184039   4.212646                 4.223586  \n",
       "\n",
       "[9 rows x 205 columns]"
      ]
     },
     "execution_count": 126,
     "metadata": {},
     "output_type": "execute_result"
    }
   ],
   "source": [
    "dist = pd.DataFrame(index=new_milestones.index, columns=waypoints.index)\n",
    "for m in new_milestones.index:\n",
    "    for waypoint in waypoints.index:\n",
    "        dist.loc[m,waypoint] = np.sqrt((new_milestones.loc[m,'comp_1'] - waypoints.loc[waypoint,'comp_1'])**2 + (new_milestones.loc[m,'comp_2'] - waypoints.loc[waypoint,'comp_2'])**2)\n",
    "dist"
   ]
  },
  {
   "cell_type": "code",
   "execution_count": 127,
   "metadata": {},
   "outputs": [
    {
     "data": {
      "text/html": [
       "<div>\n",
       "<style scoped>\n",
       "    .dataframe tbody tr th:only-of-type {\n",
       "        vertical-align: middle;\n",
       "    }\n",
       "\n",
       "    .dataframe tbody tr th {\n",
       "        vertical-align: top;\n",
       "    }\n",
       "\n",
       "    .dataframe thead th {\n",
       "        text-align: right;\n",
       "    }\n",
       "</style>\n",
       "<table border=\"1\" class=\"dataframe\">\n",
       "  <thead>\n",
       "    <tr style=\"text-align: right;\">\n",
       "      <th></th>\n",
       "      <th>closest_waypoint</th>\n",
       "      <th>distance</th>\n",
       "    </tr>\n",
       "  </thead>\n",
       "  <tbody>\n",
       "    <tr>\n",
       "      <th>M1</th>\n",
       "      <td>W9</td>\n",
       "      <td>0.058572</td>\n",
       "    </tr>\n",
       "    <tr>\n",
       "      <th>M2</th>\n",
       "      <td>MILESTONE_END_WTip0_Tip1</td>\n",
       "      <td>1.897256</td>\n",
       "    </tr>\n",
       "    <tr>\n",
       "      <th>M3</th>\n",
       "      <td>MILESTONE_END_WTip0_Tip1</td>\n",
       "      <td>3.730944</td>\n",
       "    </tr>\n",
       "    <tr>\n",
       "      <th>M4</th>\n",
       "      <td>W144</td>\n",
       "      <td>0.568598</td>\n",
       "    </tr>\n",
       "    <tr>\n",
       "      <th>M5</th>\n",
       "      <td>W51</td>\n",
       "      <td>0.099188</td>\n",
       "    </tr>\n",
       "    <tr>\n",
       "      <th>M6</th>\n",
       "      <td>W78</td>\n",
       "      <td>0.135983</td>\n",
       "    </tr>\n",
       "    <tr>\n",
       "      <th>M7</th>\n",
       "      <td>W54</td>\n",
       "      <td>0.712103</td>\n",
       "    </tr>\n",
       "    <tr>\n",
       "      <th>M8</th>\n",
       "      <td>W161</td>\n",
       "      <td>0.097602</td>\n",
       "    </tr>\n",
       "    <tr>\n",
       "      <th>M9</th>\n",
       "      <td>W145</td>\n",
       "      <td>0.615269</td>\n",
       "    </tr>\n",
       "  </tbody>\n",
       "</table>\n",
       "</div>"
      ],
      "text/plain": [
       "            closest_waypoint  distance\n",
       "M1                        W9  0.058572\n",
       "M2  MILESTONE_END_WTip0_Tip1  1.897256\n",
       "M3  MILESTONE_END_WTip0_Tip1  3.730944\n",
       "M4                      W144  0.568598\n",
       "M5                       W51  0.099188\n",
       "M6                       W78  0.135983\n",
       "M7                       W54  0.712103\n",
       "M8                      W161  0.097602\n",
       "M9                      W145  0.615269"
      ]
     },
     "execution_count": 127,
     "metadata": {},
     "output_type": "execute_result"
    }
   ],
   "source": [
    "closest = pd.DataFrame(index=new_milestones.index, columns=['closest_waypoint', 'distance'])\n",
    "for m in dist.index:\n",
    "    min_distance = dist.loc[m].min()\n",
    "    closest_waypoint = dist.loc[m].idxmin()\n",
    "    closest.loc[m] = [closest_waypoint, min_distance]\n",
    "closest"
   ]
  },
  {
   "cell_type": "code",
   "execution_count": 130,
   "metadata": {},
   "outputs": [
    {
     "data": {
      "image/png": "[encoded data removed]",
      "text/plain": [
       "<Figure size 600x500 with 1 Axes>"
      ]
     },
     "metadata": {},
     "output_type": "display_data"
    }
   ],
   "source": [
    "import random\n",
    "\n",
    "# Plot all cells\n",
    "plt.figure(figsize=(6, 5))\n",
    "plt.scatter(cells['comp_1'], cells['comp_2'], color='grey', label='Cells')\n",
    "\n",
    "# Plot the new milestones and their closest waypoints\n",
    "for m in new_milestones.index:\n",
    "    m_coords = new_milestones.loc[m]\n",
    "    waypoint = closest.loc[m, 'closest_waypoint']\n",
    "    waypoint_coords = waypoints.loc[waypoint]\n",
    "    \n",
    "    # Plot the m\n",
    "    plt.scatter(m_coords['comp_1'], m_coords['comp_2'], color='blue', label='New Milestones' if m == new_milestones.index[0] else \"\")\n",
    "    \n",
    "    # Plot the closest waypoint\n",
    "    plt.scatter(waypoint_coords['comp_1'], waypoint_coords['comp_2'], color='red', label='Closest Waypoints' if m == new_milestones.index[0] else \"\")\n",
    "    \n",
    "    # Draw a line between the m and the closest waypoint\n",
    "    plt.plot([m_coords['comp_1'], waypoint_coords['comp_1']], [m_coords['comp_2'], waypoint_coords['comp_2']], color='black', linestyle='--')\n",
    "\n",
    "plt.xlabel('comp_1')\n",
    "plt.ylabel('comp_2')\n",
    "plt.title('New Milestones and Closest Waypoints')\n",
    "plt.legend()\n",
    "plt.show()"
   ]
  },
  {
   "cell_type": "code",
   "execution_count": 171,
   "metadata": {},
   "outputs": [],
   "source": [
    "def milestones_distance(m1,m2,closest,waypoints,adj):\n",
    "    if m1==m2: return 0\n",
    "    distance = 0\n",
    "    w1 = closest.loc[m1,'closest_waypoint']\n",
    "    w2 = closest.loc[m2,'closest_waypoint']\n",
    "    wd1 = closest.loc[m1,'distance']\n",
    "    wd2 = closest.loc[m2,'distance']\n",
    "    distance += (wd1+wd2)\n",
    "    t1 = waypoints.loc[w1,'to']\n",
    "    t2 = waypoints.loc[w2,'from']\n",
    "    d1 = waypoints.loc[w1,'distance_to']\n",
    "    d2 = waypoints.loc[w2,'distance_from']\n",
    "    distance += (d1+d2)\n",
    "    if t1 in adj:\n",
    "        if t2 in adj[t1]:\n",
    "            distance += adj[t1][t2]\n",
    "            return distance\n",
    "    return 0"
   ]
  }
 ],
 "metadata": {
  "kernelspec": {
   "display_name": "Python (dynooenv)",
   "language": "python",
   "name": "dynooenv"
  },
  "language_info": {
   "codemirror_mode": {
    "name": "ipython",
    "version": 3
   },
   "file_extension": ".py",
   "mimetype": "text/x-python",
   "name": "python",
   "nbconvert_exporter": "python",
   "pygments_lexer": "ipython3",
   "version": "3.12.3"
  }
 },
 "nbformat": 4,
 "nbformat_minor": 2
}
